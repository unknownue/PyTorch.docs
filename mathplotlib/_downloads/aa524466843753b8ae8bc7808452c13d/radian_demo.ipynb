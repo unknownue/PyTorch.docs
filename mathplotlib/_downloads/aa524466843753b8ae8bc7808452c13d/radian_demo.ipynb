{
  "cells": [
    {
      "cell_type": "markdown",
      "metadata": {},
      "source": [
        "\n# Radian ticks\n\nPlot with radians from the basic_units mockup example package.\n\n\nThis example shows how the unit class can determine the tick locating,\nformatting and axis labeling.\n\n.. only:: builder_html\n\n   This example requires :download:`basic_units.py <basic_units.py>`\n"
      ]
    },
    {
      "cell_type": "code",
      "execution_count": null,
      "metadata": {
        "collapsed": false
      },
      "outputs": [],
      "source": [
        "from basic_units import cos, degrees, radians\n\nimport matplotlib.pyplot as plt\nimport numpy as np\n\nx = [val*radians for val in np.arange(0, 15, 0.01)]\n\nfig, axs = plt.subplots(2)\n\naxs[0].plot(x, cos(x), xunits=radians)\naxs[1].plot(x, cos(x), xunits=degrees)\n\nfig.tight_layout()\nplt.show()"
      ]
    }
  ],
  "metadata": {
    "kernelspec": {
      "display_name": "Python 3",
      "language": "python",
      "name": "python3"
    },
    "language_info": {
      "codemirror_mode": {
        "name": "ipython",
        "version": 3
      },
      "file_extension": ".py",
      "mimetype": "text/x-python",
      "name": "python",
      "nbconvert_exporter": "python",
      "pygments_lexer": "ipython3",
      "version": "3.11.0"
    }
  },
  "nbformat": 4,
  "nbformat_minor": 0
}