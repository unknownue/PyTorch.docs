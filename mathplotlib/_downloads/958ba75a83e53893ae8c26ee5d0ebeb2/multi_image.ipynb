{
  "cells": [
    {
      "cell_type": "markdown",
      "metadata": {},
      "source": [
        "\n# Multiple images\n\nMake a set of images with a single colormap, norm, and colorbar.\n"
      ]
    },
    {
      "cell_type": "code",
      "execution_count": null,
      "metadata": {
        "collapsed": false
      },
      "outputs": [],
      "source": [
        "import matplotlib.pyplot as plt\nimport numpy as np\n\nfrom matplotlib import colors\n\nnp.random.seed(19680801)\nNr = 3\nNc = 2\n\nfig, axs = plt.subplots(Nr, Nc)\nfig.suptitle('Multiple images')\n\nimages = []\nfor i in range(Nr):\n    for j in range(Nc):\n        # Generate data with a range that varies from one plot to the next.\n        data = ((1 + i + j) / 10) * np.random.rand(10, 20)\n        images.append(axs[i, j].imshow(data))\n        axs[i, j].label_outer()\n\n# Find the min and max of all colors for use in setting the color scale.\nvmin = min(image.get_array().min() for image in images)\nvmax = max(image.get_array().max() for image in images)\nnorm = colors.Normalize(vmin=vmin, vmax=vmax)\nfor im in images:\n    im.set_norm(norm)\n\nfig.colorbar(images[0], ax=axs, orientation='horizontal', fraction=.1)\n\n\n# Make images respond to changes in the norm of other images (e.g. via the\n# \"edit axis, curves and images parameters\" GUI on Qt), but be careful not to\n# recurse infinitely!\ndef update(changed_image):\n    for im in images:\n        if (changed_image.get_cmap() != im.get_cmap()\n                or changed_image.get_clim() != im.get_clim()):\n            im.set_cmap(changed_image.get_cmap())\n            im.set_clim(changed_image.get_clim())\n\n\nfor im in images:\n    im.callbacks.connect('changed', update)\n\nplt.show()"
      ]
    },
    {
      "cell_type": "markdown",
      "metadata": {},
      "source": [
        ".. admonition:: References\n\n   The use of the following functions, methods, classes and modules is shown\n   in this example:\n\n   - `matplotlib.axes.Axes.imshow` / `matplotlib.pyplot.imshow`\n   - `matplotlib.figure.Figure.colorbar` / `matplotlib.pyplot.colorbar`\n   - `matplotlib.colors.Normalize`\n   - `matplotlib.cm.ScalarMappable.set_cmap`\n   - `matplotlib.cm.ScalarMappable.set_norm`\n   - `matplotlib.cm.ScalarMappable.set_clim`\n   - `matplotlib.cbook.CallbackRegistry.connect`\n\n"
      ]
    }
  ],
  "metadata": {
    "kernelspec": {
      "display_name": "Python 3",
      "language": "python",
      "name": "python3"
    },
    "language_info": {
      "codemirror_mode": {
        "name": "ipython",
        "version": 3
      },
      "file_extension": ".py",
      "mimetype": "text/x-python",
      "name": "python",
      "nbconvert_exporter": "python",
      "pygments_lexer": "ipython3",
      "version": "3.11.0"
    }
  },
  "nbformat": 4,
  "nbformat_minor": 0
}