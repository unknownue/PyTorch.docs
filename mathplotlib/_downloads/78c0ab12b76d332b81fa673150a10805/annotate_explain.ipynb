{
  "cells": [
    {
      "cell_type": "markdown",
      "metadata": {},
      "source": [
        "\n# Annotate Explain\n"
      ]
    },
    {
      "cell_type": "code",
      "execution_count": null,
      "metadata": {
        "collapsed": false
      },
      "outputs": [],
      "source": [
        "import matplotlib.pyplot as plt\n\nimport matplotlib.patches as mpatches\n\nfig, axs = plt.subplots(2, 2)\nx1, y1 = 0.3, 0.3\nx2, y2 = 0.7, 0.7\n\nax = axs.flat[0]\nax.plot([x1, x2], [y1, y2], \".\")\nel = mpatches.Ellipse((x1, y1), 0.3, 0.4, angle=30, alpha=0.2)\nax.add_artist(el)\nax.annotate(\"\",\n            xy=(x1, y1), xycoords='data',\n            xytext=(x2, y2), textcoords='data',\n            arrowprops=dict(arrowstyle=\"-\",\n                            color=\"0.5\",\n                            patchB=None,\n                            shrinkB=0,\n                            connectionstyle=\"arc3,rad=0.3\",\n                            ),\n            )\nax.text(.05, .95, \"connect\", transform=ax.transAxes, ha=\"left\", va=\"top\")\n\nax = axs.flat[1]\nax.plot([x1, x2], [y1, y2], \".\")\nel = mpatches.Ellipse((x1, y1), 0.3, 0.4, angle=30, alpha=0.2)\nax.add_artist(el)\nax.annotate(\"\",\n            xy=(x1, y1), xycoords='data',\n            xytext=(x2, y2), textcoords='data',\n            arrowprops=dict(arrowstyle=\"-\",\n                            color=\"0.5\",\n                            patchB=el,\n                            shrinkB=0,\n                            connectionstyle=\"arc3,rad=0.3\",\n                            ),\n            )\nax.text(.05, .95, \"clip\", transform=ax.transAxes, ha=\"left\", va=\"top\")\n\nax = axs.flat[2]\nax.plot([x1, x2], [y1, y2], \".\")\nel = mpatches.Ellipse((x1, y1), 0.3, 0.4, angle=30, alpha=0.2)\nax.add_artist(el)\nax.annotate(\"\",\n            xy=(x1, y1), xycoords='data',\n            xytext=(x2, y2), textcoords='data',\n            arrowprops=dict(arrowstyle=\"-\",\n                            color=\"0.5\",\n                            patchB=el,\n                            shrinkB=5,\n                            connectionstyle=\"arc3,rad=0.3\",\n                            ),\n            )\nax.text(.05, .95, \"shrink\", transform=ax.transAxes, ha=\"left\", va=\"top\")\n\nax = axs.flat[3]\nax.plot([x1, x2], [y1, y2], \".\")\nel = mpatches.Ellipse((x1, y1), 0.3, 0.4, angle=30, alpha=0.2)\nax.add_artist(el)\nax.annotate(\"\",\n            xy=(x1, y1), xycoords='data',\n            xytext=(x2, y2), textcoords='data',\n            arrowprops=dict(arrowstyle=\"fancy\",\n                            color=\"0.5\",\n                            patchB=el,\n                            shrinkB=5,\n                            connectionstyle=\"arc3,rad=0.3\",\n                            ),\n            )\nax.text(.05, .95, \"mutate\", transform=ax.transAxes, ha=\"left\", va=\"top\")\n\nfor ax in axs.flat:\n    ax.set(xlim=(0, 1), ylim=(0, 1), xticks=[], yticks=[], aspect=1)\n\nplt.show()"
      ]
    }
  ],
  "metadata": {
    "kernelspec": {
      "display_name": "Python 3",
      "language": "python",
      "name": "python3"
    },
    "language_info": {
      "codemirror_mode": {
        "name": "ipython",
        "version": 3
      },
      "file_extension": ".py",
      "mimetype": "text/x-python",
      "name": "python",
      "nbconvert_exporter": "python",
      "pygments_lexer": "ipython3",
      "version": "3.11.0"
    }
  },
  "nbformat": 4,
  "nbformat_minor": 0
}