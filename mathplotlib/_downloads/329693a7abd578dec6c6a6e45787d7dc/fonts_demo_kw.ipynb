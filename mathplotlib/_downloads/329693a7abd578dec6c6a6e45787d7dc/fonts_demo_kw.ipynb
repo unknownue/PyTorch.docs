{
  "cells": [
    {
      "cell_type": "markdown",
      "metadata": {},
      "source": [
        "\n# Fonts demo (keyword arguments)\n\nSet font properties using keyword arguments.\n\nSee :doc:`fonts_demo` to achieve the same effect using setters.\n"
      ]
    },
    {
      "cell_type": "code",
      "execution_count": null,
      "metadata": {
        "collapsed": false
      },
      "outputs": [],
      "source": [
        "import matplotlib.pyplot as plt\n\nfig = plt.figure()\nalignment = {'horizontalalignment': 'center', 'verticalalignment': 'baseline'}\nyp = [0.8, 0.7, 0.6, 0.5, 0.4, 0.3, 0.2]\n\n# Show family options\nfig.text(0.1, 0.9, 'family', size='large', **alignment)\nfamilies = ['serif', 'sans-serif', 'cursive', 'fantasy', 'monospace']\nfor k, family in enumerate(families):\n    fig.text(0.1, yp[k], family, family=family, **alignment)\n\n# Show style options\nfig.text(0.3, 0.9, 'style', **alignment)\nstyles = ['normal', 'italic', 'oblique']\nfor k, style in enumerate(styles):\n    fig.text(0.3, yp[k], style, family='sans-serif', style=style, **alignment)\n\n# Show variant options\nfig.text(0.5, 0.9, 'variant', **alignment)\nvariants = ['normal', 'small-caps']\nfor k, variant in enumerate(variants):\n    fig.text(0.5, yp[k], variant, family='serif', variant=variant, **alignment)\n\n# Show weight options\nfig.text(0.7, 0.9, 'weight', **alignment)\nweights = ['light', 'normal', 'medium', 'semibold', 'bold', 'heavy', 'black']\nfor k, weight in enumerate(weights):\n    fig.text(0.7, yp[k], weight, weight=weight, **alignment)\n\n# Show size options\nfig.text(0.9, 0.9, 'size', **alignment)\nsizes = [\n    'xx-small', 'x-small', 'small', 'medium', 'large', 'x-large', 'xx-large']\nfor k, size in enumerate(sizes):\n    fig.text(0.9, yp[k], size, size=size, **alignment)\n\n# Show bold italic\nfig.text(0.3, 0.1, 'bold italic',\n         style='italic', weight='bold', size='x-small', **alignment)\nfig.text(0.3, 0.2, 'bold italic',\n         style='italic', weight='bold', size='medium', **alignment)\nfig.text(0.3, 0.3, 'bold italic',\n         style='italic', weight='bold', size='x-large', **alignment)\n\nplt.show()"
      ]
    }
  ],
  "metadata": {
    "kernelspec": {
      "display_name": "Python 3",
      "language": "python",
      "name": "python3"
    },
    "language_info": {
      "codemirror_mode": {
        "name": "ipython",
        "version": 3
      },
      "file_extension": ".py",
      "mimetype": "text/x-python",
      "name": "python",
      "nbconvert_exporter": "python",
      "pygments_lexer": "ipython3",
      "version": "3.11.0"
    }
  },
  "nbformat": 4,
  "nbformat_minor": 0
}