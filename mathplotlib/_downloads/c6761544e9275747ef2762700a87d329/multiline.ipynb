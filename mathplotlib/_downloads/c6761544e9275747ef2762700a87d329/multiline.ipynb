{
  "cells": [
    {
      "cell_type": "markdown",
      "metadata": {},
      "source": [
        "\n# Multiline\n"
      ]
    },
    {
      "cell_type": "code",
      "execution_count": null,
      "metadata": {
        "collapsed": false
      },
      "outputs": [],
      "source": [
        "import matplotlib.pyplot as plt\nimport numpy as np\n\nfig, (ax0, ax1) = plt.subplots(ncols=2, figsize=(7, 4))\n\nax0.set_aspect(1)\nax0.plot(np.arange(10))\nax0.set_xlabel('this is a xlabel\\n(with newlines!)')\nax0.set_ylabel('this is vertical\\ntest', multialignment='center')\nax0.text(2, 7, 'this is\\nyet another test',\n         rotation=45,\n         horizontalalignment='center',\n         verticalalignment='top',\n         multialignment='center')\n\nax0.grid()\n\n\nax1.text(0.29, 0.4, \"Mat\\nTTp\\n123\", size=18,\n         va=\"baseline\", ha=\"right\", multialignment=\"left\",\n         bbox=dict(fc=\"none\"))\n\nax1.text(0.34, 0.4, \"Mag\\nTTT\\n123\", size=18,\n         va=\"baseline\", ha=\"left\", multialignment=\"left\",\n         bbox=dict(fc=\"none\"))\n\nax1.text(0.95, 0.4, \"Mag\\nTTT$^{A^A}$\\n123\", size=18,\n         va=\"baseline\", ha=\"right\", multialignment=\"left\",\n         bbox=dict(fc=\"none\"))\n\nax1.set_xticks([0.2, 0.4, 0.6, 0.8, 1.],\n               labels=[\"Jan\\n2009\", \"Feb\\n2009\", \"Mar\\n2009\", \"Apr\\n2009\",\n                       \"May\\n2009\"])\n\nax1.axhline(0.4)\nax1.set_title(\"test line spacing for multiline text\")\n\nfig.subplots_adjust(bottom=0.25, top=0.75)\nplt.show()"
      ]
    }
  ],
  "metadata": {
    "kernelspec": {
      "display_name": "Python 3",
      "language": "python",
      "name": "python3"
    },
    "language_info": {
      "codemirror_mode": {
        "name": "ipython",
        "version": 3
      },
      "file_extension": ".py",
      "mimetype": "text/x-python",
      "name": "python",
      "nbconvert_exporter": "python",
      "pygments_lexer": "ipython3",
      "version": "3.11.0"
    }
  },
  "nbformat": 4,
  "nbformat_minor": 0
}