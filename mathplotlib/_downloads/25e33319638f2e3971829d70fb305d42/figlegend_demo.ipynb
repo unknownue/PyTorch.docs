{
  "cells": [
    {
      "cell_type": "markdown",
      "metadata": {},
      "source": [
        "\n# Figure legend demo\n\nInstead of plotting a legend on each axis, a legend for all the artists on all\nthe sub-axes of a figure can be plotted instead.\n"
      ]
    },
    {
      "cell_type": "code",
      "execution_count": null,
      "metadata": {
        "collapsed": false
      },
      "outputs": [],
      "source": [
        "import matplotlib.pyplot as plt\nimport numpy as np\n\nfig, axs = plt.subplots(1, 2)\n\nx = np.arange(0.0, 2.0, 0.02)\ny1 = np.sin(2 * np.pi * x)\ny2 = np.exp(-x)\nl1, = axs[0].plot(x, y1)\nl2, = axs[0].plot(x, y2, marker='o')\n\ny3 = np.sin(4 * np.pi * x)\ny4 = np.exp(-2 * x)\nl3, = axs[1].plot(x, y3, color='tab:green')\nl4, = axs[1].plot(x, y4, color='tab:red', marker='^')\n\nfig.legend((l1, l2), ('Line 1', 'Line 2'), loc='upper left')\nfig.legend((l3, l4), ('Line 3', 'Line 4'), loc='upper right')\n\nplt.tight_layout()\nplt.show()"
      ]
    },
    {
      "cell_type": "markdown",
      "metadata": {},
      "source": [
        "Sometimes we do not want the legend to overlap the axes.  If you use\n*constrained layout* you can specify \"outside right upper\", and\n*constrained layout* will make room for the legend.\n\n"
      ]
    },
    {
      "cell_type": "code",
      "execution_count": null,
      "metadata": {
        "collapsed": false
      },
      "outputs": [],
      "source": [
        "fig, axs = plt.subplots(1, 2, layout='constrained')\n\nx = np.arange(0.0, 2.0, 0.02)\ny1 = np.sin(2 * np.pi * x)\ny2 = np.exp(-x)\nl1, = axs[0].plot(x, y1)\nl2, = axs[0].plot(x, y2, marker='o')\n\ny3 = np.sin(4 * np.pi * x)\ny4 = np.exp(-2 * x)\nl3, = axs[1].plot(x, y3, color='tab:green')\nl4, = axs[1].plot(x, y4, color='tab:red', marker='^')\n\nfig.legend((l1, l2), ('Line 1', 'Line 2'), loc='upper left')\nfig.legend((l3, l4), ('Line 3', 'Line 4'), loc='outside right upper')\n\nplt.show()"
      ]
    }
  ],
  "metadata": {
    "kernelspec": {
      "display_name": "Python 3",
      "language": "python",
      "name": "python3"
    },
    "language_info": {
      "codemirror_mode": {
        "name": "ipython",
        "version": 3
      },
      "file_extension": ".py",
      "mimetype": "text/x-python",
      "name": "python",
      "nbconvert_exporter": "python",
      "pygments_lexer": "ipython3",
      "version": "3.11.0"
    }
  },
  "nbformat": 4,
  "nbformat_minor": 0
}