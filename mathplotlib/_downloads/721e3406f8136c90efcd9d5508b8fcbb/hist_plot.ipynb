{
  "cells": [
    {
      "cell_type": "markdown",
      "metadata": {},
      "source": [
        "\n# hist(x)\n\nSee `~matplotlib.axes.Axes.hist`.\n"
      ]
    },
    {
      "cell_type": "code",
      "execution_count": null,
      "metadata": {
        "collapsed": false
      },
      "outputs": [],
      "source": [
        "import matplotlib.pyplot as plt\nimport numpy as np\n\nplt.style.use('_mpl-gallery')\n\n# make data\nnp.random.seed(1)\nx = 4 + np.random.normal(0, 1.5, 200)\n\n# plot:\nfig, ax = plt.subplots()\n\nax.hist(x, bins=8, linewidth=0.5, edgecolor=\"white\")\n\nax.set(xlim=(0, 8), xticks=np.arange(1, 8),\n       ylim=(0, 56), yticks=np.linspace(0, 56, 9))\n\nplt.show()"
      ]
    }
  ],
  "metadata": {
    "kernelspec": {
      "display_name": "Python 3",
      "language": "python",
      "name": "python3"
    },
    "language_info": {
      "codemirror_mode": {
        "name": "ipython",
        "version": 3
      },
      "file_extension": ".py",
      "mimetype": "text/x-python",
      "name": "python",
      "nbconvert_exporter": "python",
      "pygments_lexer": "ipython3",
      "version": "3.11.0"
    }
  },
  "nbformat": 4,
  "nbformat_minor": 0
}