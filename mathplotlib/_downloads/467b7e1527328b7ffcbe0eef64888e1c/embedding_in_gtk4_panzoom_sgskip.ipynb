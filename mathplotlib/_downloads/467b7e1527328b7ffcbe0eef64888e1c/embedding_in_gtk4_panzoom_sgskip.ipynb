{
  "cells": [
    {
      "cell_type": "markdown",
      "metadata": {},
      "source": [
        "\n# Embedding in GTK4 with a navigation toolbar\n\nDemonstrate NavigationToolbar with GTK4 accessed via pygobject.\n"
      ]
    },
    {
      "cell_type": "code",
      "execution_count": null,
      "metadata": {
        "collapsed": false
      },
      "outputs": [],
      "source": [
        "import gi\n\ngi.require_version('Gtk', '4.0')\nfrom gi.repository import Gtk\n\nimport numpy as np\n\nfrom matplotlib.backends.backend_gtk4 import \\\n    NavigationToolbar2GTK4 as NavigationToolbar\nfrom matplotlib.backends.backend_gtk4agg import \\\n    FigureCanvasGTK4Agg as FigureCanvas\nfrom matplotlib.figure import Figure\n\n\ndef on_activate(app):\n    win = Gtk.ApplicationWindow(application=app)\n    win.set_default_size(400, 300)\n    win.set_title(\"Embedding in GTK4\")\n\n    fig = Figure(figsize=(5, 4), dpi=100)\n    ax = fig.add_subplot(1, 1, 1)\n    t = np.arange(0.0, 3.0, 0.01)\n    s = np.sin(2*np.pi*t)\n    ax.plot(t, s)\n\n    vbox = Gtk.Box(orientation=Gtk.Orientation.VERTICAL)\n    win.set_child(vbox)\n\n    # Add canvas to vbox\n    canvas = FigureCanvas(fig)  # a Gtk.DrawingArea\n    canvas.set_hexpand(True)\n    canvas.set_vexpand(True)\n    vbox.append(canvas)\n\n    # Create toolbar\n    toolbar = NavigationToolbar(canvas)\n    vbox.append(toolbar)\n\n    win.show()\n\n\napp = Gtk.Application(\n    application_id='org.matplotlib.examples.EmbeddingInGTK4PanZoom')\napp.connect('activate', on_activate)\napp.run(None)"
      ]
    }
  ],
  "metadata": {
    "kernelspec": {
      "display_name": "Python 3",
      "language": "python",
      "name": "python3"
    },
    "language_info": {
      "codemirror_mode": {
        "name": "ipython",
        "version": 3
      },
      "file_extension": ".py",
      "mimetype": "text/x-python",
      "name": "python",
      "nbconvert_exporter": "python",
      "pygments_lexer": "ipython3",
      "version": "3.11.0"
    }
  },
  "nbformat": 4,
  "nbformat_minor": 0
}