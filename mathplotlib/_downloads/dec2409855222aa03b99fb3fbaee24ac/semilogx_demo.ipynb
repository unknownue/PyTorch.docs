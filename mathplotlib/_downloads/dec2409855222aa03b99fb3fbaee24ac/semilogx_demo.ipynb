{
  "cells": [
    {
      "cell_type": "markdown",
      "metadata": {},
      "source": [
        "\n# Log Axis\n\n.. redirect-from:: /gallery/scales/log_test\n\nThis is an example of assigning a log-scale for the x-axis using\n`~.axes.Axes.semilogx`.\n"
      ]
    },
    {
      "cell_type": "code",
      "execution_count": null,
      "metadata": {
        "collapsed": false
      },
      "outputs": [],
      "source": [
        "import matplotlib.pyplot as plt\nimport numpy as np\n\nfig, ax = plt.subplots()\n\ndt = 0.01\nt = np.arange(dt, 20.0, dt)\n\nax.semilogx(t, np.exp(-t / 5.0))\nax.grid()\n\nplt.show()"
      ]
    }
  ],
  "metadata": {
    "kernelspec": {
      "display_name": "Python 3",
      "language": "python",
      "name": "python3"
    },
    "language_info": {
      "codemirror_mode": {
        "name": "ipython",
        "version": 3
      },
      "file_extension": ".py",
      "mimetype": "text/x-python",
      "name": "python",
      "nbconvert_exporter": "python",
      "pygments_lexer": "ipython3",
      "version": "3.11.0"
    }
  },
  "nbformat": 4,
  "nbformat_minor": 0
}