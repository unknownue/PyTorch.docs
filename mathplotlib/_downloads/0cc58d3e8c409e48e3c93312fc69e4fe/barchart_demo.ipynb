{
  "cells": [
    {
      "cell_type": "markdown",
      "metadata": {},
      "source": [
        "\n# Percentiles as horizontal bar chart\n\nBar charts are useful for visualizing counts, or summary statistics\nwith error bars. Also see the :doc:`/gallery/lines_bars_and_markers/barchart`\nor the :doc:`/gallery/lines_bars_and_markers/barh` example for simpler versions\nof those features.\n\nThis example comes from an application in which grade school gym\nteachers wanted to be able to show parents how their child did across\na handful of fitness tests, and importantly, relative to how other\nchildren did. To extract the plotting code for demo purposes, we'll\njust make up some data for little Johnny Doe.\n"
      ]
    },
    {
      "cell_type": "code",
      "execution_count": null,
      "metadata": {
        "collapsed": false
      },
      "outputs": [],
      "source": [
        "from collections import namedtuple\n\nimport matplotlib.pyplot as plt\nimport numpy as np\n\nStudent = namedtuple('Student', ['name', 'grade', 'gender'])\nScore = namedtuple('Score', ['value', 'unit', 'percentile'])\n\n\ndef to_ordinal(num):\n    \"\"\"Convert an integer to an ordinal string, e.g. 2 -> '2nd'.\"\"\"\n    suffixes = {str(i): v\n                for i, v in enumerate(['th', 'st', 'nd', 'rd', 'th',\n                                       'th', 'th', 'th', 'th', 'th'])}\n    v = str(num)\n    # special case early teens\n    if v in {'11', '12', '13'}:\n        return v + 'th'\n    return v + suffixes[v[-1]]\n\n\ndef format_score(score):\n    \"\"\"\n    Create score labels for the right y-axis as the test name followed by the\n    measurement unit (if any), split over two lines.\n    \"\"\"\n    return f'{score.value}\\n{score.unit}' if score.unit else str(score.value)\n\n\ndef plot_student_results(student, scores_by_test, cohort_size):\n    fig, ax1 = plt.subplots(figsize=(9, 7), layout='constrained')\n    fig.canvas.manager.set_window_title('Eldorado K-8 Fitness Chart')\n\n    ax1.set_title(student.name)\n    ax1.set_xlabel(\n        'Percentile Ranking Across {grade} Grade {gender}s\\n'\n        'Cohort Size: {cohort_size}'.format(\n            grade=to_ordinal(student.grade),\n            gender=student.gender.title(),\n            cohort_size=cohort_size))\n\n    test_names = list(scores_by_test.keys())\n    percentiles = [score.percentile for score in scores_by_test.values()]\n\n    rects = ax1.barh(test_names, percentiles, align='center', height=0.5)\n    # Partition the percentile values to be able to draw large numbers in\n    # white within the bar, and small numbers in black outside the bar.\n    large_percentiles = [to_ordinal(p) if p > 40 else '' for p in percentiles]\n    small_percentiles = [to_ordinal(p) if p <= 40 else '' for p in percentiles]\n    ax1.bar_label(rects, small_percentiles,\n                  padding=5, color='black', fontweight='bold')\n    ax1.bar_label(rects, large_percentiles,\n                  padding=-32, color='white', fontweight='bold')\n\n    ax1.set_xlim([0, 100])\n    ax1.set_xticks([0, 10, 20, 30, 40, 50, 60, 70, 80, 90, 100])\n    ax1.xaxis.grid(True, linestyle='--', which='major',\n                   color='grey', alpha=.25)\n    ax1.axvline(50, color='grey', alpha=0.25)  # median position\n\n    # Set the right-hand Y-axis ticks and labels\n    ax2 = ax1.twinx()\n    # Set equal limits on both yaxis so that the ticks line up\n    ax2.set_ylim(ax1.get_ylim())\n    # Set the tick locations and labels\n    ax2.set_yticks(\n        np.arange(len(scores_by_test)),\n        labels=[format_score(score) for score in scores_by_test.values()])\n\n    ax2.set_ylabel('Test Scores')\n\n\nstudent = Student(name='Johnny Doe', grade=2, gender='Boy')\nscores_by_test = {\n    'Pacer Test': Score(7, 'laps', percentile=37),\n    'Flexed Arm\\n Hang': Score(48, 'sec', percentile=95),\n    'Mile Run': Score('12:52', 'min:sec', percentile=73),\n    'Agility': Score(17, 'sec', percentile=60),\n    'Push Ups': Score(14, '', percentile=16),\n}\n\nplot_student_results(student, scores_by_test, cohort_size=62)\nplt.show()"
      ]
    },
    {
      "cell_type": "markdown",
      "metadata": {},
      "source": [
        ".. admonition:: References\n\n   The use of the following functions, methods, classes and modules is shown\n   in this example:\n\n   - `matplotlib.axes.Axes.bar` / `matplotlib.pyplot.bar`\n   - `matplotlib.axes.Axes.bar_label` / `matplotlib.pyplot.bar_label`\n   - `matplotlib.axes.Axes.twinx` / `matplotlib.pyplot.twinx`\n\n"
      ]
    }
  ],
  "metadata": {
    "kernelspec": {
      "display_name": "Python 3",
      "language": "python",
      "name": "python3"
    },
    "language_info": {
      "codemirror_mode": {
        "name": "ipython",
        "version": 3
      },
      "file_extension": ".py",
      "mimetype": "text/x-python",
      "name": "python",
      "nbconvert_exporter": "python",
      "pygments_lexer": "ipython3",
      "version": "3.11.0"
    }
  },
  "nbformat": 4,
  "nbformat_minor": 0
}