{
  "cells": [
    {
      "cell_type": "markdown",
      "metadata": {},
      "source": [
        "\n# Some features of the histogram (hist) function\n\nIn addition to the basic histogram, this demo shows a few optional features:\n\n* Setting the number of data bins.\n* The *density* parameter, which normalizes bin heights so that the integral of\n  the histogram is 1. The resulting histogram is an approximation of the\n  probability density function.\n\nSelecting different bin counts and sizes can significantly affect the shape\nof a histogram. The Astropy docs have a great section_ on how to select these\nparameters.\n\n"
      ]
    },
    {
      "cell_type": "code",
      "execution_count": null,
      "metadata": {
        "collapsed": false
      },
      "outputs": [],
      "source": [
        "import matplotlib.pyplot as plt\nimport numpy as np\n\nrng = np.random.default_rng(19680801)\n\n# example data\nmu = 106  # mean of distribution\nsigma = 17  # standard deviation of distribution\nx = rng.normal(loc=mu, scale=sigma, size=420)\n\nnum_bins = 42\n\nfig, ax = plt.subplots()\n\n# the histogram of the data\nn, bins, patches = ax.hist(x, num_bins, density=True)\n\n# add a 'best fit' line\ny = ((1 / (np.sqrt(2 * np.pi) * sigma)) *\n     np.exp(-0.5 * (1 / sigma * (bins - mu))**2))\nax.plot(bins, y, '--')\nax.set_xlabel('Value')\nax.set_ylabel('Probability density')\nax.set_title('Histogram of normal distribution sample: '\n             fr'$\\mu={mu:.0f}$, $\\sigma={sigma:.0f}$')\n\n# Tweak spacing to prevent clipping of ylabel\nfig.tight_layout()\nplt.show()"
      ]
    },
    {
      "cell_type": "markdown",
      "metadata": {},
      "source": [
        ".. admonition:: References\n\n   The use of the following functions, methods, classes and modules is shown\n   in this example:\n\n   - `matplotlib.axes.Axes.hist` / `matplotlib.pyplot.hist`\n   - `matplotlib.axes.Axes.set_title`\n   - `matplotlib.axes.Axes.set_xlabel`\n   - `matplotlib.axes.Axes.set_ylabel`\n\n"
      ]
    }
  ],
  "metadata": {
    "kernelspec": {
      "display_name": "Python 3",
      "language": "python",
      "name": "python3"
    },
    "language_info": {
      "codemirror_mode": {
        "name": "ipython",
        "version": 3
      },
      "file_extension": ".py",
      "mimetype": "text/x-python",
      "name": "python",
      "nbconvert_exporter": "python",
      "pygments_lexer": "ipython3",
      "version": "3.11.0"
    }
  },
  "nbformat": 4,
  "nbformat_minor": 0
}