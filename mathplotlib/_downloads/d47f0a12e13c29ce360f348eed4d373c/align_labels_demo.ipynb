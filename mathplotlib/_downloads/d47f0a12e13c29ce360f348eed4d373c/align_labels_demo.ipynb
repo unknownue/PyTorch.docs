{
  "cells": [
    {
      "cell_type": "markdown",
      "metadata": {},
      "source": [
        "\n# Aligning Labels\n\nAligning xlabel and ylabel using `.Figure.align_xlabels` and\n`.Figure.align_ylabels`\n\n`.Figure.align_labels` wraps these two functions.\n\nNote that the xlabel \"XLabel1 1\" would normally be much closer to the\nx-axis, and \"YLabel1 0\" would be much closer to the y-axis of their\nrespective axes.\n"
      ]
    },
    {
      "cell_type": "code",
      "execution_count": null,
      "metadata": {
        "collapsed": false
      },
      "outputs": [],
      "source": [
        "import matplotlib.pyplot as plt\nimport numpy as np\n\nimport matplotlib.gridspec as gridspec\n\nfig = plt.figure(tight_layout=True)\ngs = gridspec.GridSpec(2, 2)\n\nax = fig.add_subplot(gs[0, :])\nax.plot(np.arange(0, 1e6, 1000))\nax.set_ylabel('YLabel0')\nax.set_xlabel('XLabel0')\n\nfor i in range(2):\n    ax = fig.add_subplot(gs[1, i])\n    ax.plot(np.arange(1., 0., -0.1) * 2000., np.arange(1., 0., -0.1))\n    ax.set_ylabel('YLabel1 %d' % i)\n    ax.set_xlabel('XLabel1 %d' % i)\n    if i == 0:\n        ax.tick_params(axis='x', rotation=55)\nfig.align_labels()  # same as fig.align_xlabels(); fig.align_ylabels()\n\nplt.show()"
      ]
    }
  ],
  "metadata": {
    "kernelspec": {
      "display_name": "Python 3",
      "language": "python",
      "name": "python3"
    },
    "language_info": {
      "codemirror_mode": {
        "name": "ipython",
        "version": 3
      },
      "file_extension": ".py",
      "mimetype": "text/x-python",
      "name": "python",
      "nbconvert_exporter": "python",
      "pygments_lexer": "ipython3",
      "version": "3.11.0"
    }
  },
  "nbformat": 4,
  "nbformat_minor": 0
}