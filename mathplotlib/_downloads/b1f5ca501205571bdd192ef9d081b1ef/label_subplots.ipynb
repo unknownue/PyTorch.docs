{
  "cells": [
    {
      "cell_type": "markdown",
      "metadata": {},
      "source": [
        "\n# Labelling subplots\n\nLabelling subplots is relatively straightforward, and varies,\nso Matplotlib does not have a general method for doing this.\n\nSimplest is putting the label inside the axes.  Note, here\nwe use `.pyplot.subplot_mosaic`, and use the subplot labels\nas keys for the subplots, which is a nice convenience.  However,\nthe same method works with `.pyplot.subplots` or keys that are\ndifferent than what you want to label the subplot with.\n"
      ]
    },
    {
      "cell_type": "code",
      "execution_count": null,
      "metadata": {
        "collapsed": false
      },
      "outputs": [],
      "source": [
        "import matplotlib.pyplot as plt\n\nimport matplotlib.transforms as mtransforms\n\nfig, axs = plt.subplot_mosaic([['a)', 'c)'], ['b)', 'c)'], ['d)', 'd)']],\n                              layout='constrained')\n\nfor label, ax in axs.items():\n    # label physical distance in and down:\n    trans = mtransforms.ScaledTranslation(10/72, -5/72, fig.dpi_scale_trans)\n    ax.text(0.0, 1.0, label, transform=ax.transAxes + trans,\n            fontsize='medium', verticalalignment='top', fontfamily='serif',\n            bbox=dict(facecolor='0.7', edgecolor='none', pad=3.0))\n\nplt.show()"
      ]
    },
    {
      "cell_type": "markdown",
      "metadata": {},
      "source": [
        "We may prefer the labels outside the axes, but still aligned\nwith each other, in which case we use a slightly different transform:\n\n"
      ]
    },
    {
      "cell_type": "code",
      "execution_count": null,
      "metadata": {
        "collapsed": false
      },
      "outputs": [],
      "source": [
        "fig, axs = plt.subplot_mosaic([['a)', 'c)'], ['b)', 'c)'], ['d)', 'd)']],\n                              layout='constrained')\n\nfor label, ax in axs.items():\n    # label physical distance to the left and up:\n    trans = mtransforms.ScaledTranslation(-20/72, 7/72, fig.dpi_scale_trans)\n    ax.text(0.0, 1.0, label, transform=ax.transAxes + trans,\n            fontsize='medium', va='bottom', fontfamily='serif')\n\nplt.show()"
      ]
    },
    {
      "cell_type": "markdown",
      "metadata": {},
      "source": [
        "If we want it aligned with the title, either incorporate in the title or\nuse the *loc* keyword argument:\n\n"
      ]
    },
    {
      "cell_type": "code",
      "execution_count": null,
      "metadata": {
        "collapsed": false
      },
      "outputs": [],
      "source": [
        "fig, axs = plt.subplot_mosaic([['a)', 'c)'], ['b)', 'c)'], ['d)', 'd)']],\n                              layout='constrained')\n\nfor label, ax in axs.items():\n    ax.set_title('Normal Title', fontstyle='italic')\n    ax.set_title(label, fontfamily='serif', loc='left', fontsize='medium')\n\nplt.show()"
      ]
    },
    {
      "cell_type": "markdown",
      "metadata": {},
      "source": [
        ".. admonition:: References\n\n   The use of the following functions, methods, classes and modules is shown\n   in this example:\n\n   - `matplotlib.figure.Figure.subplot_mosaic` /\n     `matplotlib.pyplot.subplot_mosaic`\n   - `matplotlib.axes.Axes.set_title`\n   - `matplotlib.axes.Axes.text`\n   - `matplotlib.transforms.ScaledTranslation`\n\n"
      ]
    }
  ],
  "metadata": {
    "kernelspec": {
      "display_name": "Python 3",
      "language": "python",
      "name": "python3"
    },
    "language_info": {
      "codemirror_mode": {
        "name": "ipython",
        "version": 3
      },
      "file_extension": ".py",
      "mimetype": "text/x-python",
      "name": "python",
      "nbconvert_exporter": "python",
      "pygments_lexer": "ipython3",
      "version": "3.11.0"
    }
  },
  "nbformat": 4,
  "nbformat_minor": 0
}