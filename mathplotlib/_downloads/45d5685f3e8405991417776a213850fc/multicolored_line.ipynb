{
  "cells": [
    {
      "cell_type": "markdown",
      "metadata": {},
      "source": [
        "\n# Multicolored lines\n\nThis example shows how to make a multicolored line. In this example, the line\nis colored based on its derivative.\n"
      ]
    },
    {
      "cell_type": "code",
      "execution_count": null,
      "metadata": {
        "collapsed": false
      },
      "outputs": [],
      "source": [
        "import matplotlib.pyplot as plt\nimport numpy as np\n\nfrom matplotlib.collections import LineCollection\nfrom matplotlib.colors import BoundaryNorm, ListedColormap\n\nx = np.linspace(0, 3 * np.pi, 500)\ny = np.sin(x)\ndydx = np.cos(0.5 * (x[:-1] + x[1:]))  # first derivative\n\n# Create a set of line segments so that we can color them individually\n# This creates the points as an N x 1 x 2 array so that we can stack points\n# together easily to get the segments. The segments array for line collection\n# needs to be (numlines) x (points per line) x 2 (for x and y)\npoints = np.array([x, y]).T.reshape(-1, 1, 2)\nsegments = np.concatenate([points[:-1], points[1:]], axis=1)\n\nfig, axs = plt.subplots(2, 1, sharex=True, sharey=True)\n\n# Create a continuous norm to map from data points to colors\nnorm = plt.Normalize(dydx.min(), dydx.max())\nlc = LineCollection(segments, cmap='viridis', norm=norm)\n# Set the values used for colormapping\nlc.set_array(dydx)\nlc.set_linewidth(2)\nline = axs[0].add_collection(lc)\nfig.colorbar(line, ax=axs[0])\n\n# Use a boundary norm instead\ncmap = ListedColormap(['r', 'g', 'b'])\nnorm = BoundaryNorm([-1, -0.5, 0.5, 1], cmap.N)\nlc = LineCollection(segments, cmap=cmap, norm=norm)\nlc.set_array(dydx)\nlc.set_linewidth(2)\nline = axs[1].add_collection(lc)\nfig.colorbar(line, ax=axs[1])\n\naxs[0].set_xlim(x.min(), x.max())\naxs[0].set_ylim(-1.1, 1.1)\nplt.show()"
      ]
    }
  ],
  "metadata": {
    "kernelspec": {
      "display_name": "Python 3",
      "language": "python",
      "name": "python3"
    },
    "language_info": {
      "codemirror_mode": {
        "name": "ipython",
        "version": 3
      },
      "file_extension": ".py",
      "mimetype": "text/x-python",
      "name": "python",
      "nbconvert_exporter": "python",
      "pygments_lexer": "ipython3",
      "version": "3.11.0"
    }
  },
  "nbformat": 4,
  "nbformat_minor": 0
}