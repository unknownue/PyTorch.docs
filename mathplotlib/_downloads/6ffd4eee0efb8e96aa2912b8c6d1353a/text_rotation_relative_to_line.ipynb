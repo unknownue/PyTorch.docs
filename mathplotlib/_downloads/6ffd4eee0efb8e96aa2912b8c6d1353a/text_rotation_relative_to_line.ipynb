{
  "cells": [
    {
      "cell_type": "markdown",
      "metadata": {},
      "source": [
        "\n# Text Rotation Relative To Line\n\nText objects in matplotlib are normally rotated with respect to the\nscreen coordinate system (i.e., 45 degrees rotation plots text along a\nline that is in between horizontal and vertical no matter how the axes\nare changed).  However, at times one wants to rotate text with respect\nto something on the plot.  In this case, the correct angle won't be\nthe angle of that object in the plot coordinate system, but the angle\nthat that object APPEARS in the screen coordinate system.  This angle\ncan be determined automatically by setting the parameter\n*transform_rotates_text*, as shown in the example below.\n"
      ]
    },
    {
      "cell_type": "code",
      "execution_count": null,
      "metadata": {
        "collapsed": false
      },
      "outputs": [],
      "source": [
        "import matplotlib.pyplot as plt\nimport numpy as np\n\nfig, ax = plt.subplots()\n\n# Plot diagonal line (45 degrees)\nh = ax.plot(range(0, 10), range(0, 10))\n\n# set limits so that it no longer looks on screen to be 45 degrees\nax.set_xlim([-10, 20])\n\n# Locations to plot text\nl1 = np.array((1, 1))\nl2 = np.array((5, 5))\n\n# Rotate angle\nangle = 45\n\n# Plot text\nth1 = ax.text(*l1, 'text not rotated correctly', fontsize=16,\n              rotation=angle, rotation_mode='anchor')\nth2 = ax.text(*l2, 'text rotated correctly', fontsize=16,\n              rotation=angle, rotation_mode='anchor',\n              transform_rotates_text=True)\n\nplt.show()"
      ]
    }
  ],
  "metadata": {
    "kernelspec": {
      "display_name": "Python 3",
      "language": "python",
      "name": "python3"
    },
    "language_info": {
      "codemirror_mode": {
        "name": "ipython",
        "version": 3
      },
      "file_extension": ".py",
      "mimetype": "text/x-python",
      "name": "python",
      "nbconvert_exporter": "python",
      "pygments_lexer": "ipython3",
      "version": "3.11.0"
    }
  },
  "nbformat": 4,
  "nbformat_minor": 0
}