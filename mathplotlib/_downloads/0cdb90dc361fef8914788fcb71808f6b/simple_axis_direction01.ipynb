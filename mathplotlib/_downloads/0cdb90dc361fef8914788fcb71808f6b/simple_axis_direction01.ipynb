{
  "cells": [
    {
      "cell_type": "markdown",
      "metadata": {},
      "source": [
        "\n# Simple axis direction\n"
      ]
    },
    {
      "cell_type": "code",
      "execution_count": null,
      "metadata": {
        "collapsed": false
      },
      "outputs": [],
      "source": [
        "import matplotlib.pyplot as plt\n\nimport mpl_toolkits.axisartist as axisartist\n\nfig = plt.figure(figsize=(4, 2.5))\nax1 = fig.add_subplot(axes_class=axisartist.Axes)\nfig.subplots_adjust(right=0.8)\n\nax1.axis[\"left\"].major_ticklabels.set_axis_direction(\"top\")\nax1.axis[\"left\"].label.set_text(\"Left label\")\n\nax1.axis[\"right\"].label.set_visible(True)\nax1.axis[\"right\"].label.set_text(\"Right label\")\nax1.axis[\"right\"].label.set_axis_direction(\"left\")\n\nplt.show()"
      ]
    }
  ],
  "metadata": {
    "kernelspec": {
      "display_name": "Python 3",
      "language": "python",
      "name": "python3"
    },
    "language_info": {
      "codemirror_mode": {
        "name": "ipython",
        "version": 3
      },
      "file_extension": ".py",
      "mimetype": "text/x-python",
      "name": "python",
      "nbconvert_exporter": "python",
      "pygments_lexer": "ipython3",
      "version": "3.11.0"
    }
  },
  "nbformat": 4,
  "nbformat_minor": 0
}