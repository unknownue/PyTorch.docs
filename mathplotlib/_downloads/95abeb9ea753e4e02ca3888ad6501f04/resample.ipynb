{
  "cells": [
    {
      "cell_type": "markdown",
      "metadata": {},
      "source": [
        "\n# Resampling Data\n\nDownsampling lowers the sample rate or sample size of a signal. In\nthis tutorial, the signal is downsampled when the plot is adjusted\nthrough dragging and zooming.\n\n<div class=\"alert alert-info\"><h4>Note</h4><p>This example exercises the interactive capabilities of Matplotlib, and this\n    will not appear in the static documentation. Please run this code on your\n    machine to see the interactivity.\n\n    You can copy and paste individual parts, or download the entire example\n    using the link at the bottom of the page.</p></div>\n"
      ]
    },
    {
      "cell_type": "code",
      "execution_count": null,
      "metadata": {
        "collapsed": false
      },
      "outputs": [],
      "source": [
        "import matplotlib.pyplot as plt\nimport numpy as np\n\n\n# A class that will downsample the data and recompute when zoomed.\nclass DataDisplayDownsampler:\n    def __init__(self, xdata, ydata):\n        self.origYData = ydata\n        self.origXData = xdata\n        self.max_points = 50\n        self.delta = xdata[-1] - xdata[0]\n\n    def downsample(self, xstart, xend):\n        # get the points in the view range\n        mask = (self.origXData > xstart) & (self.origXData < xend)\n        # dilate the mask by one to catch the points just outside\n        # of the view range to not truncate the line\n        mask = np.convolve([1, 1, 1], mask, mode='same').astype(bool)\n        # sort out how many points to drop\n        ratio = max(np.sum(mask) // self.max_points, 1)\n\n        # mask data\n        xdata = self.origXData[mask]\n        ydata = self.origYData[mask]\n\n        # downsample data\n        xdata = xdata[::ratio]\n        ydata = ydata[::ratio]\n\n        print(f\"using {len(ydata)} of {np.sum(mask)} visible points\")\n\n        return xdata, ydata\n\n    def update(self, ax):\n        # Update the line\n        lims = ax.viewLim\n        if abs(lims.width - self.delta) > 1e-8:\n            self.delta = lims.width\n            xstart, xend = lims.intervalx\n            self.line.set_data(*self.downsample(xstart, xend))\n            ax.figure.canvas.draw_idle()\n\n\n# Create a signal\nxdata = np.linspace(16, 365, (365-16)*4)\nydata = np.sin(2*np.pi*xdata/153) + np.cos(2*np.pi*xdata/127)\n\nd = DataDisplayDownsampler(xdata, ydata)\n\nfig, ax = plt.subplots()\n\n# Hook up the line\nd.line, = ax.plot(xdata, ydata, 'o-')\nax.set_autoscale_on(False)  # Otherwise, infinite loop\n\n# Connect for changing the view limits\nax.callbacks.connect('xlim_changed', d.update)\nax.set_xlim(16, 365)\nplt.show()"
      ]
    }
  ],
  "metadata": {
    "kernelspec": {
      "display_name": "Python 3",
      "language": "python",
      "name": "python3"
    },
    "language_info": {
      "codemirror_mode": {
        "name": "ipython",
        "version": 3
      },
      "file_extension": ".py",
      "mimetype": "text/x-python",
      "name": "python",
      "nbconvert_exporter": "python",
      "pygments_lexer": "ipython3",
      "version": "3.11.0"
    }
  },
  "nbformat": 4,
  "nbformat_minor": 0
}