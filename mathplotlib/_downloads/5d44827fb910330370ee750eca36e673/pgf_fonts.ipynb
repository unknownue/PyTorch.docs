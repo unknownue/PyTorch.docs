{
  "cells": [
    {
      "cell_type": "markdown",
      "metadata": {},
      "source": [
        "\n# PGF fonts\n"
      ]
    },
    {
      "cell_type": "code",
      "execution_count": null,
      "metadata": {
        "collapsed": false
      },
      "outputs": [],
      "source": [
        "import matplotlib.pyplot as plt\n\nplt.rcParams.update({\n    \"font.family\": \"serif\",\n    # Use LaTeX default serif font.\n    \"font.serif\": [],\n    # Use specific cursive fonts.\n    \"font.cursive\": [\"Comic Neue\", \"Comic Sans MS\"],\n})\n\nfig, ax = plt.subplots(figsize=(4.5, 2.5))\n\nax.plot(range(5))\n\nax.text(0.5, 3., \"serif\")\nax.text(0.5, 2., \"monospace\", family=\"monospace\")\nax.text(2.5, 2., \"sans-serif\", family=\"DejaVu Sans\")  # Use specific sans font.\nax.text(2.5, 1., \"comic\", family=\"cursive\")\nax.set_xlabel(\"\u00b5 is not $\\\\mu$\")\n\nfig.tight_layout(pad=.5)\n\nfig.savefig(\"pgf_fonts.pdf\")\nfig.savefig(\"pgf_fonts.png\")"
      ]
    }
  ],
  "metadata": {
    "kernelspec": {
      "display_name": "Python 3",
      "language": "python",
      "name": "python3"
    },
    "language_info": {
      "codemirror_mode": {
        "name": "ipython",
        "version": 3
      },
      "file_extension": ".py",
      "mimetype": "text/x-python",
      "name": "python",
      "nbconvert_exporter": "python",
      "pygments_lexer": "ipython3",
      "version": "3.11.0"
    }
  },
  "nbformat": 4,
  "nbformat_minor": 0
}