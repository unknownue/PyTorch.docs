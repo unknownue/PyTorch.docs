{
  "cells": [
    {
      "cell_type": "markdown",
      "metadata": {},
      "source": [
        "\n# STIX Fonts\n\nDemonstration of [STIX Fonts](https://www.stixfonts.org/) used in LaTeX\nrendering.\n"
      ]
    },
    {
      "cell_type": "code",
      "execution_count": null,
      "metadata": {
        "collapsed": false
      },
      "outputs": [],
      "source": [
        "import matplotlib.pyplot as plt\n\ncircle123 = \"\\N{CIRCLED DIGIT ONE}\\N{CIRCLED DIGIT TWO}\\N{CIRCLED DIGIT THREE}\"\n\ntests = [\n    r'$%s\\;\\mathrm{%s}\\;\\mathbf{%s}$' % ((circle123,) * 3),\n    r'$\\mathsf{Sans \\Omega}\\;\\mathrm{\\mathsf{Sans \\Omega}}\\;'\n    r'\\mathbf{\\mathsf{Sans \\Omega}}$',\n    r'$\\mathtt{Monospace}$',\n    r'$\\mathcal{CALLIGRAPHIC}$',\n    r'$\\mathbb{Blackboard\\;\\pi}$',\n    r'$\\mathrm{\\mathbb{Blackboard\\;\\pi}}$',\n    r'$\\mathbf{\\mathbb{Blackboard\\;\\pi}}$',\n    r'$\\mathfrak{Fraktur}\\;\\mathbf{\\mathfrak{Fraktur}}$',\n    r'$\\mathscr{Script}$',\n]\n\nfig = plt.figure(figsize=(8, len(tests) + 2))\nfor i, s in enumerate(tests[::-1]):\n    fig.text(0, (i + .5) / len(tests), s, fontsize=32)\n\nplt.show()"
      ]
    }
  ],
  "metadata": {
    "kernelspec": {
      "display_name": "Python 3",
      "language": "python",
      "name": "python3"
    },
    "language_info": {
      "codemirror_mode": {
        "name": "ipython",
        "version": 3
      },
      "file_extension": ".py",
      "mimetype": "text/x-python",
      "name": "python",
      "nbconvert_exporter": "python",
      "pygments_lexer": "ipython3",
      "version": "3.11.0"
    }
  },
  "nbformat": 4,
  "nbformat_minor": 0
}