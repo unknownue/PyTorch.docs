{
  "cells": [
    {
      "cell_type": "markdown",
      "metadata": {},
      "source": [
        "\n# Custom box styles\n\nThis example demonstrates the implementation of a custom `.BoxStyle`.\nCustom `.ConnectionStyle`\\s and `.ArrowStyle`\\s can be similarly defined.\n"
      ]
    },
    {
      "cell_type": "code",
      "execution_count": null,
      "metadata": {
        "collapsed": false
      },
      "outputs": [],
      "source": [
        "import matplotlib.pyplot as plt\n\nfrom matplotlib.patches import BoxStyle\nfrom matplotlib.path import Path"
      ]
    },
    {
      "cell_type": "markdown",
      "metadata": {},
      "source": [
        "Custom box styles can be implemented as a function that takes arguments\nspecifying both a rectangular box and the amount of \"mutation\", and\nreturns the \"mutated\" path.  The specific signature is the one of\n``custom_box_style`` below.\n\nHere, we return a new path which adds an \"arrow\" shape on the left of the\nbox.\n\nThe custom box style can then be used by passing\n``bbox=dict(boxstyle=custom_box_style, ...)`` to `.Axes.text`.\n\n"
      ]
    },
    {
      "cell_type": "code",
      "execution_count": null,
      "metadata": {
        "collapsed": false
      },
      "outputs": [],
      "source": [
        "def custom_box_style(x0, y0, width, height, mutation_size):\n    \"\"\"\n    Given the location and size of the box, return the path of the box around\n    it.\n\n    Rotation is automatically taken care of.\n\n    Parameters\n    ----------\n    x0, y0, width, height : float\n        Box location and size.\n    mutation_size : float\n        Mutation reference scale, typically the text font size.\n    \"\"\"\n    # padding\n    mypad = 0.3\n    pad = mutation_size * mypad\n    # width and height with padding added.\n    width = width + 2 * pad\n    height = height + 2 * pad\n    # boundary of the padded box\n    x0, y0 = x0 - pad, y0 - pad\n    x1, y1 = x0 + width, y0 + height\n    # return the new path\n    return Path([(x0, y0),\n                 (x1, y0), (x1, y1), (x0, y1),\n                 (x0-pad, (y0+y1)/2), (x0, y0),\n                 (x0, y0)],\n                closed=True)\n\n\nfig, ax = plt.subplots(figsize=(3, 3))\nax.text(0.5, 0.5, \"Test\", size=30, va=\"center\", ha=\"center\", rotation=30,\n        bbox=dict(boxstyle=custom_box_style, alpha=0.2))"
      ]
    },
    {
      "cell_type": "markdown",
      "metadata": {},
      "source": [
        "Likewise, custom box styles can be implemented as classes that implement\n``__call__``.\n\nThe classes can then be registered into the ``BoxStyle._style_list`` dict,\nwhich allows specifying the box style as a string,\n``bbox=dict(boxstyle=\"registered_name,param=value,...\", ...)``.\nNote that this registration relies on internal APIs and is therefore not\nofficially supported.\n\n"
      ]
    },
    {
      "cell_type": "code",
      "execution_count": null,
      "metadata": {
        "collapsed": false
      },
      "outputs": [],
      "source": [
        "class MyStyle:\n    \"\"\"A simple box.\"\"\"\n\n    def __init__(self, pad=0.3):\n        \"\"\"\n        The arguments must be floats and have default values.\n\n        Parameters\n        ----------\n        pad : float\n            amount of padding\n        \"\"\"\n        self.pad = pad\n        super().__init__()\n\n    def __call__(self, x0, y0, width, height, mutation_size):\n        \"\"\"\n        Given the location and size of the box, return the path of the box\n        around it.\n\n        Rotation is automatically taken care of.\n\n        Parameters\n        ----------\n        x0, y0, width, height : float\n            Box location and size.\n        mutation_size : float\n            Reference scale for the mutation, typically the text font size.\n        \"\"\"\n        # padding\n        pad = mutation_size * self.pad\n        # width and height with padding added\n        width = width + 2.*pad\n        height = height + 2.*pad\n        # boundary of the padded box\n        x0, y0 = x0 - pad, y0 - pad\n        x1, y1 = x0 + width, y0 + height\n        # return the new path\n        return Path([(x0, y0),\n                     (x1, y0), (x1, y1), (x0, y1),\n                     (x0-pad, (y0+y1)/2.), (x0, y0),\n                     (x0, y0)],\n                    closed=True)\n\n\nBoxStyle._style_list[\"angled\"] = MyStyle  # Register the custom style.\n\nfig, ax = plt.subplots(figsize=(3, 3))\nax.text(0.5, 0.5, \"Test\", size=30, va=\"center\", ha=\"center\", rotation=30,\n        bbox=dict(boxstyle=\"angled,pad=0.5\", alpha=0.2))\n\ndel BoxStyle._style_list[\"angled\"]  # Unregister it.\n\nplt.show()"
      ]
    }
  ],
  "metadata": {
    "kernelspec": {
      "display_name": "Python 3",
      "language": "python",
      "name": "python3"
    },
    "language_info": {
      "codemirror_mode": {
        "name": "ipython",
        "version": 3
      },
      "file_extension": ".py",
      "mimetype": "text/x-python",
      "name": "python",
      "nbconvert_exporter": "python",
      "pygments_lexer": "ipython3",
      "version": "3.11.0"
    }
  },
  "nbformat": 4,
  "nbformat_minor": 0
}