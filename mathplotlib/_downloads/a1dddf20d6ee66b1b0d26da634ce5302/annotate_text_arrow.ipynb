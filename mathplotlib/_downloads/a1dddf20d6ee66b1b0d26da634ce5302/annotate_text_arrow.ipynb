{
  "cells": [
    {
      "cell_type": "markdown",
      "metadata": {},
      "source": [
        "\n# Annotate Text Arrow\n"
      ]
    },
    {
      "cell_type": "code",
      "execution_count": null,
      "metadata": {
        "collapsed": false
      },
      "outputs": [],
      "source": [
        "import matplotlib.pyplot as plt\nimport numpy as np\n\n# Fixing random state for reproducibility\nnp.random.seed(19680801)\n\nfig, ax = plt.subplots(figsize=(5, 5))\nax.set_aspect(1)\n\nx1 = -1 + np.random.randn(100)\ny1 = -1 + np.random.randn(100)\nx2 = 1. + np.random.randn(100)\ny2 = 1. + np.random.randn(100)\n\nax.scatter(x1, y1, color=\"r\")\nax.scatter(x2, y2, color=\"g\")\n\nbbox_props = dict(boxstyle=\"round\", fc=\"w\", ec=\"0.5\", alpha=0.9)\nax.text(-2, -2, \"Sample A\", ha=\"center\", va=\"center\", size=20,\n        bbox=bbox_props)\nax.text(2, 2, \"Sample B\", ha=\"center\", va=\"center\", size=20,\n        bbox=bbox_props)\n\n\nbbox_props = dict(boxstyle=\"rarrow\", fc=(0.8, 0.9, 0.9), ec=\"b\", lw=2)\nt = ax.text(0, 0, \"Direction\", ha=\"center\", va=\"center\", rotation=45,\n            size=15,\n            bbox=bbox_props)\n\nbb = t.get_bbox_patch()\nbb.set_boxstyle(\"rarrow\", pad=0.6)\n\nax.set_xlim(-4, 4)\nax.set_ylim(-4, 4)\n\nplt.show()"
      ]
    }
  ],
  "metadata": {
    "kernelspec": {
      "display_name": "Python 3",
      "language": "python",
      "name": "python3"
    },
    "language_info": {
      "codemirror_mode": {
        "name": "ipython",
        "version": 3
      },
      "file_extension": ".py",
      "mimetype": "text/x-python",
      "name": "python",
      "nbconvert_exporter": "python",
      "pygments_lexer": "ipython3",
      "version": "3.11.0"
    }
  },
  "nbformat": 4,
  "nbformat_minor": 0
}