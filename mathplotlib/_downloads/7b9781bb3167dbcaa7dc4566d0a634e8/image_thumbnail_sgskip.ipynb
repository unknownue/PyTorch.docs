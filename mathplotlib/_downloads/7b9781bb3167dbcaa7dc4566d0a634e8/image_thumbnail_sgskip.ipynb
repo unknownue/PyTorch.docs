{
  "cells": [
    {
      "cell_type": "markdown",
      "metadata": {},
      "source": [
        "\n# Image Thumbnail\n\nYou can use Matplotlib to generate thumbnails from existing images.\nMatplotlib relies on Pillow_ for reading images, and thus supports all formats\nsupported by Pillow.\n\n"
      ]
    },
    {
      "cell_type": "code",
      "execution_count": null,
      "metadata": {
        "collapsed": false
      },
      "outputs": [],
      "source": [
        "from argparse import ArgumentParser\nfrom pathlib import Path\nimport sys\n\nimport matplotlib.image as image\n\nparser = ArgumentParser(\n    description=\"Build thumbnails of all images in a directory.\")\nparser.add_argument(\"imagedir\", type=Path)\nargs = parser.parse_args()\nif not args.imagedir.is_dir():\n    sys.exit(f\"Could not find input directory {args.imagedir}\")\n\noutdir = Path(\"thumbs\")\noutdir.mkdir(parents=True, exist_ok=True)\n\nfor path in args.imagedir.glob(\"*.png\"):\n    outpath = outdir / path.name\n    fig = image.thumbnail(path, outpath, scale=0.15)\n    print(f\"saved thumbnail of {path} to {outpath}\")"
      ]
    }
  ],
  "metadata": {
    "kernelspec": {
      "display_name": "Python 3",
      "language": "python",
      "name": "python3"
    },
    "language_info": {
      "codemirror_mode": {
        "name": "ipython",
        "version": 3
      },
      "file_extension": ".py",
      "mimetype": "text/x-python",
      "name": "python",
      "nbconvert_exporter": "python",
      "pygments_lexer": "ipython3",
      "version": "3.11.0"
    }
  },
  "nbformat": 4,
  "nbformat_minor": 0
}