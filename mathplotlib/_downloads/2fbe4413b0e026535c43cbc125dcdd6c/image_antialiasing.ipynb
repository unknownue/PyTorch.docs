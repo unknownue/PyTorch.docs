{
  "cells": [
    {
      "cell_type": "markdown",
      "metadata": {},
      "source": [
        "\n# Image antialiasing\n\nImages are represented by discrete pixels, either on the screen or in an\nimage file.  When data that makes up the image has a different resolution\nthan its representation on the screen we will see aliasing effects.  How\nnoticeable these are depends on how much down-sampling takes place in\nthe change of resolution (if any).\n\nWhen subsampling data, aliasing is reduced by smoothing first and then\nsubsampling the smoothed data.  In Matplotlib, we can do that\nsmoothing before mapping the data to colors, or we can do the smoothing\non the RGB(A) data in the final image.  The differences between these are\nshown below, and controlled with the *interpolation_stage* keyword argument.\n\nThe default image interpolation in Matplotlib is 'antialiased', and\nit is applied to the data.  This uses a\nhanning interpolation on the data provided by the user for reduced aliasing\nin most situations. Only when there is upsampling by a factor of 1, 2 or\n>=3 is 'nearest' neighbor interpolation used.\n\nOther anti-aliasing filters can be specified in `.Axes.imshow` using the\n*interpolation* keyword argument.\n"
      ]
    },
    {
      "cell_type": "code",
      "execution_count": null,
      "metadata": {
        "collapsed": false
      },
      "outputs": [],
      "source": [
        "import matplotlib.pyplot as plt\nimport numpy as np"
      ]
    },
    {
      "cell_type": "markdown",
      "metadata": {},
      "source": [
        "First we generate a 450x450 pixel image with varying frequency content:\n\n"
      ]
    },
    {
      "cell_type": "code",
      "execution_count": null,
      "metadata": {
        "collapsed": false
      },
      "outputs": [],
      "source": [
        "N = 450\nx = np.arange(N) / N - 0.5\ny = np.arange(N) / N - 0.5\naa = np.ones((N, N))\naa[::2, :] = -1\n\nX, Y = np.meshgrid(x, y)\nR = np.sqrt(X**2 + Y**2)\nf0 = 5\nk = 100\na = np.sin(np.pi * 2 * (f0 * R + k * R**2 / 2))\n# make the left hand side of this\na[:int(N / 2), :][R[:int(N / 2), :] < 0.4] = -1\na[:int(N / 2), :][R[:int(N / 2), :] < 0.3] = 1\naa[:, int(N / 3):] = a[:, int(N / 3):]\na = aa"
      ]
    },
    {
      "cell_type": "markdown",
      "metadata": {},
      "source": [
        "The following images are subsampled from 450 data pixels to either\n125 pixels or 250 pixels (depending on your display).\nThe Moir\u00e9 patterns in the 'nearest' interpolation are caused by the\nhigh-frequency data being subsampled.  The 'antialiased' imaged\nstill has some Moir\u00e9 patterns as well, but they are greatly reduced.\n\nThere are substantial differences between the 'data' interpolation and\nthe 'rgba' interpolation.  The alternating bands of red and blue on the\nleft third of the image are subsampled.  By interpolating in 'data' space\n(the default) the antialiasing filter makes the stripes close to white,\nbecause the average of -1 and +1 is zero, and zero is white in this\ncolormap.\n\nConversely, when the anti-aliasing occurs in 'rgba' space, the red and\nblue are combined visually to make purple.  This behaviour is more like a\ntypical image processing package, but note that purple is not in the\noriginal colormap, so it is no longer possible to invert individual\npixels back to their data value.\n\n"
      ]
    },
    {
      "cell_type": "code",
      "execution_count": null,
      "metadata": {
        "collapsed": false
      },
      "outputs": [],
      "source": [
        "fig, axs = plt.subplots(2, 2, figsize=(5, 6), layout='constrained')\naxs[0, 0].imshow(a, interpolation='nearest', cmap='RdBu_r')\naxs[0, 0].set_xlim(100, 200)\naxs[0, 0].set_ylim(275, 175)\naxs[0, 0].set_title('Zoom')\n\nfor ax, interp, space in zip(axs.flat[1:],\n                             ['nearest', 'antialiased', 'antialiased'],\n                             ['data', 'data', 'rgba']):\n    ax.imshow(a, interpolation=interp, interpolation_stage=space,\n              cmap='RdBu_r')\n    ax.set_title(f\"interpolation='{interp}'\\nspace='{space}'\")\nplt.show()"
      ]
    },
    {
      "cell_type": "markdown",
      "metadata": {},
      "source": [
        "Even up-sampling an image with 'nearest' interpolation will lead to Moir\u00e9\npatterns when the upsampling factor is not integer. The following image\nupsamples 500 data pixels to 530 rendered pixels. You may note a grid of\n30 line-like artifacts which stem from the 524 - 500 = 24 extra pixels that\nhad to be made up. Since interpolation is 'nearest' they are the same as a\nneighboring line of pixels and thus stretch the image locally so that it\nlooks distorted.\n\n"
      ]
    },
    {
      "cell_type": "code",
      "execution_count": null,
      "metadata": {
        "collapsed": false
      },
      "outputs": [],
      "source": [
        "fig, ax = plt.subplots(figsize=(6.8, 6.8))\nax.imshow(a, interpolation='nearest', cmap='gray')\nax.set_title(\"upsampled by factor a 1.048, interpolation='nearest'\")\nplt.show()"
      ]
    },
    {
      "cell_type": "markdown",
      "metadata": {},
      "source": [
        "Better antialiasing algorithms can reduce this effect:\n\n"
      ]
    },
    {
      "cell_type": "code",
      "execution_count": null,
      "metadata": {
        "collapsed": false
      },
      "outputs": [],
      "source": [
        "fig, ax = plt.subplots(figsize=(6.8, 6.8))\nax.imshow(a, interpolation='antialiased', cmap='gray')\nax.set_title(\"upsampled by factor a 1.048, interpolation='antialiased'\")\nplt.show()"
      ]
    },
    {
      "cell_type": "markdown",
      "metadata": {},
      "source": [
        "Apart from the default 'hanning' antialiasing, `~.Axes.imshow` supports a\nnumber of different interpolation algorithms, which may work better or\nworse depending on the pattern.\n\n"
      ]
    },
    {
      "cell_type": "code",
      "execution_count": null,
      "metadata": {
        "collapsed": false
      },
      "outputs": [],
      "source": [
        "fig, axs = plt.subplots(1, 2, figsize=(7, 4), layout='constrained')\nfor ax, interp in zip(axs, ['hanning', 'lanczos']):\n    ax.imshow(a, interpolation=interp, cmap='gray')\n    ax.set_title(f\"interpolation='{interp}'\")\nplt.show()"
      ]
    },
    {
      "cell_type": "markdown",
      "metadata": {},
      "source": [
        ".. admonition:: References\n\n   The use of the following functions, methods, classes and modules is shown\n   in this example:\n\n   - `matplotlib.axes.Axes.imshow`\n\n"
      ]
    }
  ],
  "metadata": {
    "kernelspec": {
      "display_name": "Python 3",
      "language": "python",
      "name": "python3"
    },
    "language_info": {
      "codemirror_mode": {
        "name": "ipython",
        "version": 3
      },
      "file_extension": ".py",
      "mimetype": "text/x-python",
      "name": "python",
      "nbconvert_exporter": "python",
      "pygments_lexer": "ipython3",
      "version": "3.11.0"
    }
  },
  "nbformat": 4,
  "nbformat_minor": 0
}