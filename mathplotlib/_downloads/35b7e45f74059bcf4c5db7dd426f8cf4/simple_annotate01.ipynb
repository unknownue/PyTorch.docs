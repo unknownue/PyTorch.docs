{
  "cells": [
    {
      "cell_type": "markdown",
      "metadata": {},
      "source": [
        "\n# Simple Annotate01\n"
      ]
    },
    {
      "cell_type": "code",
      "execution_count": null,
      "metadata": {
        "collapsed": false
      },
      "outputs": [],
      "source": [
        "import matplotlib.pyplot as plt\n\nimport matplotlib.patches as mpatches\n\nfig, axs = plt.subplots(2, 4)\nx1, y1 = 0.3, 0.3\nx2, y2 = 0.7, 0.7\n\nax = axs.flat[0]\nax.plot([x1, x2], [y1, y2], \"o\")\nax.annotate(\"\",\n            xy=(x1, y1), xycoords='data',\n            xytext=(x2, y2), textcoords='data',\n            arrowprops=dict(arrowstyle=\"->\"))\nax.text(.05, .95, \"A $->$ B\",\n        transform=ax.transAxes, ha=\"left\", va=\"top\")\n\nax = axs.flat[2]\nax.plot([x1, x2], [y1, y2], \"o\")\nax.annotate(\"\",\n            xy=(x1, y1), xycoords='data',\n            xytext=(x2, y2), textcoords='data',\n            arrowprops=dict(arrowstyle=\"->\", connectionstyle=\"arc3,rad=0.3\",\n                            shrinkB=5))\nax.text(.05, .95, \"shrinkB=5\",\n        transform=ax.transAxes, ha=\"left\", va=\"top\")\n\nax = axs.flat[3]\nax.plot([x1, x2], [y1, y2], \"o\")\nax.annotate(\"\",\n            xy=(x1, y1), xycoords='data',\n            xytext=(x2, y2), textcoords='data',\n            arrowprops=dict(arrowstyle=\"->\", connectionstyle=\"arc3,rad=0.3\"))\nax.text(.05, .95, \"connectionstyle=arc3\",\n        transform=ax.transAxes, ha=\"left\", va=\"top\")\n\nax = axs.flat[4]\nax.plot([x1, x2], [y1, y2], \"o\")\nel = mpatches.Ellipse((x1, y1), 0.3, 0.4, angle=30, alpha=0.5)\nax.add_artist(el)\nax.annotate(\"\",\n            xy=(x1, y1), xycoords='data',\n            xytext=(x2, y2), textcoords='data',\n            arrowprops=dict(arrowstyle=\"->\", connectionstyle=\"arc3,rad=0.2\"))\n\nax = axs.flat[5]\nax.plot([x1, x2], [y1, y2], \"o\")\nel = mpatches.Ellipse((x1, y1), 0.3, 0.4, angle=30, alpha=0.5)\nax.add_artist(el)\nax.annotate(\"\",\n            xy=(x1, y1), xycoords='data',\n            xytext=(x2, y2), textcoords='data',\n            arrowprops=dict(arrowstyle=\"->\", connectionstyle=\"arc3,rad=0.2\",\n                            patchB=el))\nax.text(.05, .95, \"patchB\",\n        transform=ax.transAxes, ha=\"left\", va=\"top\")\n\nax = axs.flat[6]\nax.plot([x1], [y1], \"o\")\nax.annotate(\"Test\",\n            xy=(x1, y1), xycoords='data',\n            xytext=(x2, y2), textcoords='data',\n            ha=\"center\", va=\"center\",\n            bbox=dict(boxstyle=\"round\", fc=\"w\"),\n            arrowprops=dict(arrowstyle=\"->\"))\nax.text(.05, .95, \"annotate\",\n        transform=ax.transAxes, ha=\"left\", va=\"top\")\n\nax = axs.flat[7]\nax.plot([x1], [y1], \"o\")\nax.annotate(\"Test\",\n            xy=(x1, y1), xycoords='data',\n            xytext=(x2, y2), textcoords='data',\n            ha=\"center\", va=\"center\",\n            bbox=dict(boxstyle=\"round\", fc=\"w\", ),\n            arrowprops=dict(arrowstyle=\"->\", relpos=(0., 0.)))\nax.text(.05, .95, \"relpos=(0, 0)\",\n        transform=ax.transAxes, ha=\"left\", va=\"top\")\n\nfor ax in axs.flat:\n    ax.set(xlim=(0, 1), ylim=(0, 1), xticks=[], yticks=[], aspect=1)\n\nplt.show()"
      ]
    }
  ],
  "metadata": {
    "kernelspec": {
      "display_name": "Python 3",
      "language": "python",
      "name": "python3"
    },
    "language_info": {
      "codemirror_mode": {
        "name": "ipython",
        "version": 3
      },
      "file_extension": ".py",
      "mimetype": "text/x-python",
      "name": "python",
      "nbconvert_exporter": "python",
      "pygments_lexer": "ipython3",
      "version": "3.11.0"
    }
  },
  "nbformat": 4,
  "nbformat_minor": 0
}