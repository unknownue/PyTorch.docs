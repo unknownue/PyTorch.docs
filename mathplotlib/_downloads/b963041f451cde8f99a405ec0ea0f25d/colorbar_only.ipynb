{
  "cells": [
    {
      "cell_type": "markdown",
      "metadata": {},
      "source": [
        "\n.. redirect-from:: /tutorials/colors/colorbar_only\n\n# Customized Colorbars Tutorial\n\nThis tutorial shows how to build and customize standalone colorbars, i.e.\nwithout an attached plot.\n\n## Customized Colorbars\n\nA `~.Figure.colorbar` needs a \"mappable\" (`matplotlib.cm.ScalarMappable`)\nobject (typically, an image) which indicates the colormap and the norm to be\nused.  In order to create a colorbar without an attached image, one can instead\nuse a `.ScalarMappable` with no associated data.\n\n### Basic continuous colorbar\n\nHere we create a basic continuous colorbar with ticks and labels.\n\nThe arguments to the `~.Figure.colorbar` call are the `.ScalarMappable`\n(constructed using the *norm* and *cmap* arguments), the axes where the\ncolorbar should be drawn, and the colorbar's orientation.\n\nFor more information see the :mod:`~matplotlib.colorbar` API.\n"
      ]
    },
    {
      "cell_type": "code",
      "execution_count": null,
      "metadata": {
        "collapsed": false
      },
      "outputs": [],
      "source": [
        "import matplotlib.pyplot as plt\n\nimport matplotlib as mpl\n\nfig, ax = plt.subplots(figsize=(6, 1))\nfig.subplots_adjust(bottom=0.5)\n\ncmap = mpl.cm.cool\nnorm = mpl.colors.Normalize(vmin=5, vmax=10)\n\nfig.colorbar(mpl.cm.ScalarMappable(norm=norm, cmap=cmap),\n             cax=ax, orientation='horizontal', label='Some Units')"
      ]
    },
    {
      "cell_type": "markdown",
      "metadata": {},
      "source": [
        "### Extended colorbar with continuous colorscale\n\nThe second example shows how to make a discrete colorbar based on a\ncontinuous cmap. With the \"extend\" keyword argument the appropriate colors\nare chosen to fill the colorspace, including the extensions:\n\n"
      ]
    },
    {
      "cell_type": "code",
      "execution_count": null,
      "metadata": {
        "collapsed": false
      },
      "outputs": [],
      "source": [
        "fig, ax = plt.subplots(figsize=(6, 1))\nfig.subplots_adjust(bottom=0.5)\n\ncmap = mpl.cm.viridis\nbounds = [-1, 2, 5, 7, 12, 15]\nnorm = mpl.colors.BoundaryNorm(bounds, cmap.N, extend='both')\n\nfig.colorbar(mpl.cm.ScalarMappable(norm=norm, cmap=cmap),\n             cax=ax, orientation='horizontal',\n             label=\"Discrete intervals with extend='both' keyword\")"
      ]
    },
    {
      "cell_type": "markdown",
      "metadata": {},
      "source": [
        "### Discrete intervals colorbar\n\nThe third example illustrates the use of a\n:class:`~matplotlib.colors.ListedColormap` which generates a colormap from a\nset of listed colors, `.colors.BoundaryNorm` which generates a colormap\nindex based on discrete intervals and extended ends to show the \"over\" and\n\"under\" value colors. Over and under are used to display data outside of the\nnormalized [0, 1] range. Here we pass colors as gray shades as a string\nencoding a float in the 0-1 range.\n\nIf a :class:`~matplotlib.colors.ListedColormap` is used, the length of the\nbounds array must be one greater than the length of the color list. The\nbounds must be monotonically increasing.\n\nThis time we pass additional arguments to\n`~.Figure.colorbar`. For the out-of-range values to display on the colorbar\nwithout using the *extend* keyword with\n`.colors.BoundaryNorm`, we have to use the *extend* keyword argument directly\nin the colorbar call.  Here we also\nuse the spacing argument to make\nthe length of each colorbar segment proportional to its corresponding\ninterval.\n\n"
      ]
    },
    {
      "cell_type": "code",
      "execution_count": null,
      "metadata": {
        "collapsed": false
      },
      "outputs": [],
      "source": [
        "fig, ax = plt.subplots(figsize=(6, 1))\nfig.subplots_adjust(bottom=0.5)\n\ncmap = (mpl.colors.ListedColormap(['red', 'green', 'blue', 'cyan'])\n        .with_extremes(over='0.25', under='0.75'))\n\nbounds = [1, 2, 4, 7, 8]\nnorm = mpl.colors.BoundaryNorm(bounds, cmap.N)\nfig.colorbar(\n    mpl.cm.ScalarMappable(cmap=cmap, norm=norm),\n    cax=ax,\n    extend='both',\n    ticks=bounds,\n    spacing='proportional',\n    orientation='horizontal',\n    label='Discrete intervals, some other units',\n)"
      ]
    },
    {
      "cell_type": "markdown",
      "metadata": {},
      "source": [
        "### Colorbar with custom extension lengths\n\nHere we illustrate the use of custom length colorbar extensions, on a\ncolorbar with discrete intervals. To make the length of each extension the\nsame as the length of the interior colors, use ``extendfrac='auto'``.\n\n"
      ]
    },
    {
      "cell_type": "code",
      "execution_count": null,
      "metadata": {
        "collapsed": false
      },
      "outputs": [],
      "source": [
        "fig, ax = plt.subplots(figsize=(6, 1))\nfig.subplots_adjust(bottom=0.5)\n\ncmap = (mpl.colors.ListedColormap(['royalblue', 'cyan', 'yellow', 'orange'])\n        .with_extremes(over='red', under='blue'))\n\nbounds = [-1.0, -0.5, 0.0, 0.5, 1.0]\nnorm = mpl.colors.BoundaryNorm(bounds, cmap.N)\nfig.colorbar(\n    mpl.cm.ScalarMappable(cmap=cmap, norm=norm),\n    cax=ax,\n    extend='both',\n    extendfrac='auto',\n    ticks=bounds,\n    spacing='uniform',\n    orientation='horizontal',\n    label='Custom extension lengths, some other units',\n)\n\nplt.show()"
      ]
    }
  ],
  "metadata": {
    "kernelspec": {
      "display_name": "Python 3",
      "language": "python",
      "name": "python3"
    },
    "language_info": {
      "codemirror_mode": {
        "name": "ipython",
        "version": 3
      },
      "file_extension": ".py",
      "mimetype": "text/x-python",
      "name": "python",
      "nbconvert_exporter": "python",
      "pygments_lexer": "ipython3",
      "version": "3.11.0"
    }
  },
  "nbformat": 4,
  "nbformat_minor": 0
}