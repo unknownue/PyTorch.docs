{
  "cells": [
    {
      "cell_type": "markdown",
      "metadata": {},
      "source": [
        "\n# Ishikawa Diagram\n\nIshikawa Diagrams, fishbone diagrams, herringbone diagrams, or cause-and-effect\ndiagrams are used to identify problems in a system by showing how causes and\neffects are linked.\nSource: https://en.wikipedia.org/wiki/Ishikawa_diagram\n"
      ]
    },
    {
      "cell_type": "code",
      "execution_count": null,
      "metadata": {
        "collapsed": false
      },
      "outputs": [],
      "source": [
        "import matplotlib.pyplot as plt\n\nfrom matplotlib.patches import Polygon, Wedge\n\n# Create the fishbone diagram\nfig, ax = plt.subplots(figsize=(10, 6), layout='constrained')\nax.set_xlim(-5, 5)\nax.set_ylim(-5, 5)\nax.axis('off')\n\n\ndef problems(data: str,\n             problem_x: float, problem_y: float,\n             prob_angle_x: float, prob_angle_y: float):\n    \"\"\"\n    Draw each problem section of the Ishikawa plot.\n\n    Parameters\n    ----------\n    data : str\n        The category name.\n    problem_x, problem_y : float, optional\n        The `X` and `Y` positions of the problem arrows (`Y` defaults to zero).\n    prob_angle_x, prob_angle_y : float, optional\n        The angle of the problem annotations. They are angled towards\n        the tail of the plot.\n\n    Returns\n    -------\n    None.\n\n    \"\"\"\n    ax.annotate(str.upper(data), xy=(problem_x, problem_y),\n                xytext=(prob_angle_x, prob_angle_y),\n                fontsize='10',\n                color='white',\n                weight='bold',\n                xycoords='data',\n                verticalalignment='center',\n                horizontalalignment='center',\n                textcoords='offset fontsize',\n                arrowprops=dict(arrowstyle=\"->\", facecolor='black'),\n                bbox=dict(boxstyle='square',\n                          facecolor='tab:blue',\n                          pad=0.8))\n\n\ndef causes(data: list, cause_x: float, cause_y: float,\n           cause_xytext=(-9, -0.3), top: bool = True):\n    \"\"\"\n    Place each cause to a position relative to the problems\n    annotations.\n\n    Parameters\n    ----------\n    data : indexable object\n        The input data. IndexError is\n        raised if more than six arguments are passed.\n    cause_x, cause_y : float\n        The `X` and `Y` position of the cause annotations.\n    cause_xytext : tuple, optional\n        Adjust to set the distance of the cause text from the problem\n        arrow in fontsize units.\n    top : bool\n\n    Returns\n    -------\n    None.\n\n    \"\"\"\n    for index, cause in enumerate(data):\n        # First cause annotation is placed in the middle of the problems arrow\n        # and each subsequent cause is plotted above or below it in succession.\n\n        # [<x pos>, [<y pos top>, <y pos bottom>]]\n        coords = [[0, [0, 0]],\n                  [0.23, [0.5, -0.5]],\n                  [-0.46, [-1, 1]],\n                  [0.69, [1.5, -1.5]],\n                  [-0.92, [-2, 2]],\n                  [1.15, [2.5, -2.5]]]\n        if top:\n            cause_y += coords[index][1][0]\n        else:\n            cause_y += coords[index][1][1]\n        cause_x -= coords[index][0]\n\n        ax.annotate(cause, xy=(cause_x, cause_y),\n                    horizontalalignment='center',\n                    xytext=cause_xytext,\n                    fontsize='9',\n                    xycoords='data',\n                    textcoords='offset fontsize',\n                    arrowprops=dict(arrowstyle=\"->\",\n                                    facecolor='black'))\n\n\ndef draw_body(data: dict):\n    \"\"\"\n    Place each section in its correct place by changing\n    the coordinates on each loop.\n\n    Parameters\n    ----------\n    data : dict\n        The input data (can be list or tuple). ValueError is\n        raised if more than six arguments are passed.\n\n    Returns\n    -------\n    None.\n\n    \"\"\"\n    second_sections = []\n    third_sections = []\n    # Resize diagram to automatically scale in response to the number\n    # of problems in the input data.\n    if len(data) == 1 or len(data) == 2:\n        spine_length = (-2.1, 2)\n        head_pos = (2, 0)\n        tail_pos = ((-2.8, 0.8), (-2.8, -0.8), (-2.0, -0.01))\n        first_section = [1.6, 0.8]\n    elif len(data) == 3 or len(data) == 4:\n        spine_length = (-3.1, 3)\n        head_pos = (3, 0)\n        tail_pos = ((-3.8, 0.8), (-3.8, -0.8), (-3.0, -0.01))\n        first_section = [2.6, 1.8]\n        second_sections = [-0.4, -1.2]\n    else:  # len(data) == 5 or 6\n        spine_length = (-4.1, 4)\n        head_pos = (4, 0)\n        tail_pos = ((-4.8, 0.8), (-4.8, -0.8), (-4.0, -0.01))\n        first_section = [3.5, 2.7]\n        second_sections = [1, 0.2]\n        third_sections = [-1.5, -2.3]\n\n    # Change the coordinates of the annotations on each loop.\n    for index, problem in enumerate(data.values()):\n        top_row = True\n        cause_arrow_y = 1.7\n        if index % 2 != 0:  # Plot problems below the spine.\n            top_row = False\n            y_prob_angle = -16\n            cause_arrow_y = -1.7\n        else:  # Plot problems above the spine.\n            y_prob_angle = 16\n        # Plot the 3 sections in pairs along the main spine.\n        if index in (0, 1):\n            prob_arrow_x = first_section[0]\n            cause_arrow_x = first_section[1]\n        elif index in (2, 3):\n            prob_arrow_x = second_sections[0]\n            cause_arrow_x = second_sections[1]\n        else:\n            prob_arrow_x = third_sections[0]\n            cause_arrow_x = third_sections[1]\n        if index > 5:\n            raise ValueError(f'Maximum number of problems is 6, you have entered '\n                             f'{len(data)}')\n\n        # draw main spine\n        ax.plot(spine_length, [0, 0], color='tab:blue', linewidth=2)\n        # draw fish head\n        ax.text(head_pos[0] + 0.1, head_pos[1] - 0.05, 'PROBLEM', fontsize=10,\n                weight='bold', color='white')\n        semicircle = Wedge(head_pos, 1, 270, 90, fc='tab:blue')\n        ax.add_patch(semicircle)\n        # draw fishtail\n        triangle = Polygon(tail_pos, fc='tab:blue')\n        ax.add_patch(triangle)\n        # Pass each category name to the problems function as a string on each loop.\n        problems(list(data.keys())[index], prob_arrow_x, 0, -12, y_prob_angle)\n        # Start the cause function with the first annotation being plotted at\n        # the cause_arrow_x, cause_arrow_y coordinates.\n        causes(problem, cause_arrow_x, cause_arrow_y, top=top_row)\n\n\n# Input data\ncategories = {\n    'Method': ['Time consumption', 'Cost', 'Procedures', 'Inefficient process',\n               'Sampling'],\n    'Machine': ['Faulty equipment', 'Compatibility'],\n    'Material': ['Poor-quality input', 'Raw materials', 'Supplier',\n                 'Shortage'],\n    'Measurement': ['Calibration', 'Performance', 'Wrong measurements'],\n    'Environment': ['Bad conditions'],\n    'People': ['Lack of training', 'Managers', 'Labor shortage',\n               'Procedures', 'Sales strategy']\n}\n\ndraw_body(categories)\nplt.show()"
      ]
    }
  ],
  "metadata": {
    "kernelspec": {
      "display_name": "Python 3",
      "language": "python",
      "name": "python3"
    },
    "language_info": {
      "codemirror_mode": {
        "name": "ipython",
        "version": 3
      },
      "file_extension": ".py",
      "mimetype": "text/x-python",
      "name": "python",
      "nbconvert_exporter": "python",
      "pygments_lexer": "ipython3",
      "version": "3.11.0"
    }
  },
  "nbformat": 4,
  "nbformat_minor": 0
}