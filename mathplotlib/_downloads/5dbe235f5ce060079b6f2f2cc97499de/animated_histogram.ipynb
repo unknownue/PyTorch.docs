{
  "cells": [
    {
      "cell_type": "markdown",
      "metadata": {},
      "source": [
        "\n# Animated histogram\n\nUse histogram's `.BarContainer` to draw a bunch of rectangles for an animated\nhistogram.\n"
      ]
    },
    {
      "cell_type": "code",
      "execution_count": null,
      "metadata": {
        "collapsed": false
      },
      "outputs": [],
      "source": [
        "import matplotlib.pyplot as plt\nimport numpy as np\n\nimport matplotlib.animation as animation\n\n# Fixing random state for reproducibility\nnp.random.seed(19680801)\n# Fixing bin edges\nHIST_BINS = np.linspace(-4, 4, 100)\n\n# histogram our data with numpy\ndata = np.random.randn(1000)\nn, _ = np.histogram(data, HIST_BINS)"
      ]
    },
    {
      "cell_type": "markdown",
      "metadata": {},
      "source": [
        "To animate the histogram, we need an ``animate`` function, which generates\na random set of numbers and updates the heights of rectangles. We utilize a\npython closure to track an instance of `.BarContainer` whose `.Rectangle`\npatches we shall update.\n\n"
      ]
    },
    {
      "cell_type": "code",
      "execution_count": null,
      "metadata": {
        "collapsed": false
      },
      "outputs": [],
      "source": [
        "def prepare_animation(bar_container):\n\n    def animate(frame_number):\n        # simulate new data coming in\n        data = np.random.randn(1000)\n        n, _ = np.histogram(data, HIST_BINS)\n        for count, rect in zip(n, bar_container.patches):\n            rect.set_height(count)\n        return bar_container.patches\n    return animate"
      ]
    },
    {
      "cell_type": "markdown",
      "metadata": {},
      "source": [
        "Using :func:`~matplotlib.pyplot.hist` allows us to get an instance of\n`.BarContainer`, which is a collection of `.Rectangle` instances. Calling\n``prepare_animation`` will define ``animate`` function working with supplied\n`.BarContainer`, all this is used to setup `.FuncAnimation`.\n\n"
      ]
    },
    {
      "cell_type": "code",
      "execution_count": null,
      "metadata": {
        "collapsed": false
      },
      "outputs": [],
      "source": [
        "# Output generated via `matplotlib.animation.Animation.to_jshtml`.\n\nfig, ax = plt.subplots()\n_, _, bar_container = ax.hist(data, HIST_BINS, lw=1,\n                              ec=\"yellow\", fc=\"green\", alpha=0.5)\nax.set_ylim(top=55)  # set safe limit to ensure that all data is visible.\n\nani = animation.FuncAnimation(fig, prepare_animation(bar_container), 50,\n                              repeat=False, blit=True)\nplt.show()"
      ]
    }
  ],
  "metadata": {
    "kernelspec": {
      "display_name": "Python 3",
      "language": "python",
      "name": "python3"
    },
    "language_info": {
      "codemirror_mode": {
        "name": "ipython",
        "version": 3
      },
      "file_extension": ".py",
      "mimetype": "text/x-python",
      "name": "python",
      "nbconvert_exporter": "python",
      "pygments_lexer": "ipython3",
      "version": "3.11.0"
    }
  },
  "nbformat": 4,
  "nbformat_minor": 0
}