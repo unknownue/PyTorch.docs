{
  "cells": [
    {
      "cell_type": "markdown",
      "metadata": {},
      "source": [
        "\n# Hatch-filled histograms\n\nHatching capabilities for plotting histograms.\n"
      ]
    },
    {
      "cell_type": "code",
      "execution_count": null,
      "metadata": {
        "collapsed": false
      },
      "outputs": [],
      "source": [
        "from functools import partial\nimport itertools\n\nfrom cycler import cycler\n\nimport matplotlib.pyplot as plt\nimport numpy as np\n\nimport matplotlib.ticker as mticker\n\n\ndef filled_hist(ax, edges, values, bottoms=None, orientation='v',\n                **kwargs):\n    \"\"\"\n    Draw a histogram as a stepped patch.\n\n    Parameters\n    ----------\n    ax : Axes\n        The axes to plot to\n\n    edges : array\n        A length n+1 array giving the left edges of each bin and the\n        right edge of the last bin.\n\n    values : array\n        A length n array of bin counts or values\n\n    bottoms : float or array, optional\n        A length n array of the bottom of the bars.  If None, zero is used.\n\n    orientation : {'v', 'h'}\n       Orientation of the histogram.  'v' (default) has\n       the bars increasing in the positive y-direction.\n\n    **kwargs\n        Extra keyword arguments are passed through to `.fill_between`.\n\n    Returns\n    -------\n    ret : PolyCollection\n        Artist added to the Axes\n    \"\"\"\n    print(orientation)\n    if orientation not in 'hv':\n        raise ValueError(f\"orientation must be in {{'h', 'v'}} \"\n                         f\"not {orientation}\")\n\n    kwargs.setdefault('step', 'post')\n    kwargs.setdefault('alpha', 0.7)\n    edges = np.asarray(edges)\n    values = np.asarray(values)\n    if len(edges) - 1 != len(values):\n        raise ValueError(f'Must provide one more bin edge than value not: '\n                         f'{len(edges)=} {len(values)=}')\n\n    if bottoms is None:\n        bottoms = 0\n    bottoms = np.broadcast_to(bottoms, values.shape)\n\n    values = np.append(values, values[-1])\n    bottoms = np.append(bottoms, bottoms[-1])\n    if orientation == 'h':\n        return ax.fill_betweenx(edges, values, bottoms,\n                                **kwargs)\n    elif orientation == 'v':\n        return ax.fill_between(edges, values, bottoms,\n                               **kwargs)\n    else:\n        raise AssertionError(\"you should never be here\")\n\n\ndef stack_hist(ax, stacked_data, sty_cycle, bottoms=None,\n               hist_func=None, labels=None,\n               plot_func=None, plot_kwargs=None):\n    \"\"\"\n    Parameters\n    ----------\n    ax : axes.Axes\n        The axes to add artists too\n\n    stacked_data : array or Mapping\n        A (M, N) shaped array.  The first dimension will be iterated over to\n        compute histograms row-wise\n\n    sty_cycle : Cycler or operable of dict\n        Style to apply to each set\n\n    bottoms : array, default: 0\n        The initial positions of the bottoms.\n\n    hist_func : callable, optional\n        Must have signature `bin_vals, bin_edges = f(data)`.\n        `bin_edges` expected to be one longer than `bin_vals`\n\n    labels : list of str, optional\n        The label for each set.\n\n        If not given and stacked data is an array defaults to 'default set {n}'\n\n        If *stacked_data* is a mapping, and *labels* is None, default to the\n        keys.\n\n        If *stacked_data* is a mapping and *labels* is given then only the\n        columns listed will be plotted.\n\n    plot_func : callable, optional\n        Function to call to draw the histogram must have signature:\n\n          ret = plot_func(ax, edges, top, bottoms=bottoms,\n                          label=label, **kwargs)\n\n    plot_kwargs : dict, optional\n        Any extra keyword arguments to pass through to the plotting function.\n        This will be the same for all calls to the plotting function and will\n        override the values in *sty_cycle*.\n\n    Returns\n    -------\n    arts : dict\n        Dictionary of artists keyed on their labels\n    \"\"\"\n    # deal with default binning function\n    if hist_func is None:\n        hist_func = np.histogram\n\n    # deal with default plotting function\n    if plot_func is None:\n        plot_func = filled_hist\n\n    # deal with default\n    if plot_kwargs is None:\n        plot_kwargs = {}\n    print(plot_kwargs)\n    try:\n        l_keys = stacked_data.keys()\n        label_data = True\n        if labels is None:\n            labels = l_keys\n\n    except AttributeError:\n        label_data = False\n        if labels is None:\n            labels = itertools.repeat(None)\n\n    if label_data:\n        loop_iter = enumerate((stacked_data[lab], lab, s)\n                              for lab, s in zip(labels, sty_cycle))\n    else:\n        loop_iter = enumerate(zip(stacked_data, labels, sty_cycle))\n\n    arts = {}\n    for j, (data, label, sty) in loop_iter:\n        if label is None:\n            label = f'dflt set {j}'\n        label = sty.pop('label', label)\n        vals, edges = hist_func(data)\n        if bottoms is None:\n            bottoms = np.zeros_like(vals)\n        top = bottoms + vals\n        print(sty)\n        sty.update(plot_kwargs)\n        print(sty)\n        ret = plot_func(ax, edges, top, bottoms=bottoms,\n                        label=label, **sty)\n        bottoms = top\n        arts[label] = ret\n    ax.legend(fontsize=10)\n    return arts\n\n\n# set up histogram function to fixed bins\nedges = np.linspace(-3, 3, 20, endpoint=True)\nhist_func = partial(np.histogram, bins=edges)\n\n# set up style cycles\ncolor_cycle = cycler(facecolor=plt.rcParams['axes.prop_cycle'][:4])\nlabel_cycle = cycler(label=[f'set {n}' for n in range(4)])\nhatch_cycle = cycler(hatch=['/', '*', '+', '|'])\n\n# Fixing random state for reproducibility\nnp.random.seed(19680801)\n\nstack_data = np.random.randn(4, 12250)\ndict_data = dict(zip((c['label'] for c in label_cycle), stack_data))"
      ]
    },
    {
      "cell_type": "markdown",
      "metadata": {},
      "source": [
        "Work with plain arrays\n\n"
      ]
    },
    {
      "cell_type": "code",
      "execution_count": null,
      "metadata": {
        "collapsed": false
      },
      "outputs": [],
      "source": [
        "fig, (ax1, ax2) = plt.subplots(1, 2, figsize=(9, 4.5), tight_layout=True)\narts = stack_hist(ax1, stack_data, color_cycle + label_cycle + hatch_cycle,\n                  hist_func=hist_func)\n\narts = stack_hist(ax2, stack_data, color_cycle,\n                  hist_func=hist_func,\n                  plot_kwargs=dict(edgecolor='w', orientation='h'))\nax1.set_ylabel('counts')\nax1.set_xlabel('x')\nax2.set_xlabel('counts')\nax2.set_ylabel('x')"
      ]
    },
    {
      "cell_type": "markdown",
      "metadata": {},
      "source": [
        "Work with labeled data\n\n"
      ]
    },
    {
      "cell_type": "code",
      "execution_count": null,
      "metadata": {
        "collapsed": false
      },
      "outputs": [],
      "source": [
        "fig, (ax1, ax2) = plt.subplots(1, 2, figsize=(9, 4.5),\n                               tight_layout=True, sharey=True)\n\narts = stack_hist(ax1, dict_data, color_cycle + hatch_cycle,\n                  hist_func=hist_func)\n\narts = stack_hist(ax2, dict_data, color_cycle + hatch_cycle,\n                  hist_func=hist_func, labels=['set 0', 'set 3'])\nax1.xaxis.set_major_locator(mticker.MaxNLocator(5))\nax1.set_xlabel('counts')\nax1.set_ylabel('x')\nax2.set_ylabel('x')\n\nplt.show()"
      ]
    },
    {
      "cell_type": "markdown",
      "metadata": {},
      "source": [
        ".. admonition:: References\n\n   The use of the following functions, methods, classes and modules is shown\n   in this example:\n\n   - `matplotlib.axes.Axes.fill_betweenx` / `matplotlib.pyplot.fill_betweenx`\n   - `matplotlib.axes.Axes.fill_between` / `matplotlib.pyplot.fill_between`\n   - `matplotlib.axis.Axis.set_major_locator`\n\n"
      ]
    }
  ],
  "metadata": {
    "kernelspec": {
      "display_name": "Python 3",
      "language": "python",
      "name": "python3"
    },
    "language_info": {
      "codemirror_mode": {
        "name": "ipython",
        "version": 3
      },
      "file_extension": ".py",
      "mimetype": "text/x-python",
      "name": "python",
      "nbconvert_exporter": "python",
      "pygments_lexer": "ipython3",
      "version": "3.11.0"
    }
  },
  "nbformat": 4,
  "nbformat_minor": 0
}