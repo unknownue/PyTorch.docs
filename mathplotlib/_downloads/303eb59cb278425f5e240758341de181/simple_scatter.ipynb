{
  "cells": [
    {
      "cell_type": "markdown",
      "metadata": {},
      "source": [
        "\n# Animated scatter saved as GIF\n\nOutput generated via `matplotlib.animation.Animation.to_jshtml`.\n"
      ]
    },
    {
      "cell_type": "code",
      "execution_count": null,
      "metadata": {
        "collapsed": false
      },
      "outputs": [],
      "source": [
        "import matplotlib.pyplot as plt\nimport numpy as np\n\nimport matplotlib.animation as animation\n\nfig, ax = plt.subplots()\nax.set_xlim([0, 10])\n\nscat = ax.scatter(1, 0)\nx = np.linspace(0, 10)\n\n\ndef animate(i):\n    scat.set_offsets((x[i], 0))\n    return scat,\n\nani = animation.FuncAnimation(fig, animate, repeat=True,\n                                    frames=len(x) - 1, interval=50)\n\n# To save the animation using Pillow as a gif\n# writer = animation.PillowWriter(fps=15,\n#                                 metadata=dict(artist='Me'),\n#                                 bitrate=1800)\n# ani.save('scatter.gif', writer=writer)\n\nplt.show()"
      ]
    }
  ],
  "metadata": {
    "kernelspec": {
      "display_name": "Python 3",
      "language": "python",
      "name": "python3"
    },
    "language_info": {
      "codemirror_mode": {
        "name": "ipython",
        "version": 3
      },
      "file_extension": ".py",
      "mimetype": "text/x-python",
      "name": "python",
      "nbconvert_exporter": "python",
      "pygments_lexer": "ipython3",
      "version": "3.11.0"
    }
  },
  "nbformat": 4,
  "nbformat_minor": 0
}