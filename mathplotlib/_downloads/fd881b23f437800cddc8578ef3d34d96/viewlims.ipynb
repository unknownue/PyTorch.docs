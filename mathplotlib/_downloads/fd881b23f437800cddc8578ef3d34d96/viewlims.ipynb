{
  "cells": [
    {
      "cell_type": "markdown",
      "metadata": {},
      "source": [
        "\n# Viewlims\n\nCreates two identical panels.  Zooming in on the right panel will show\na rectangle in the first panel, denoting the zoomed region.\n\n<div class=\"alert alert-info\"><h4>Note</h4><p>This example exercises the interactive capabilities of Matplotlib, and this\n    will not appear in the static documentation. Please run this code on your\n    machine to see the interactivity.\n\n    You can copy and paste individual parts, or download the entire example\n    using the link at the bottom of the page.</p></div>\n"
      ]
    },
    {
      "cell_type": "code",
      "execution_count": null,
      "metadata": {
        "collapsed": false
      },
      "outputs": [],
      "source": [
        "import matplotlib.pyplot as plt\nimport numpy as np\n\nfrom matplotlib.patches import Rectangle\n\n\n# We just subclass Rectangle so that it can be called with an Axes\n# instance, causing the rectangle to update its shape to match the\n# bounds of the Axes\nclass UpdatingRect(Rectangle):\n    def __call__(self, ax):\n        self.set_bounds(*ax.viewLim.bounds)\n        ax.figure.canvas.draw_idle()\n\n\n# A class that will regenerate a fractal set as we zoom in, so that you\n# can actually see the increasing detail.  A box in the left panel will show\n# the area to which we are zoomed.\nclass MandelbrotDisplay:\n    def __init__(self, h=500, w=500, niter=50, radius=2., power=2):\n        self.height = h\n        self.width = w\n        self.niter = niter\n        self.radius = radius\n        self.power = power\n\n    def compute_image(self, xstart, xend, ystart, yend):\n        self.x = np.linspace(xstart, xend, self.width)\n        self.y = np.linspace(ystart, yend, self.height).reshape(-1, 1)\n        c = self.x + 1.0j * self.y\n        threshold_time = np.zeros((self.height, self.width))\n        z = np.zeros(threshold_time.shape, dtype=complex)\n        mask = np.ones(threshold_time.shape, dtype=bool)\n        for i in range(self.niter):\n            z[mask] = z[mask]**self.power + c[mask]\n            mask = (np.abs(z) < self.radius)\n            threshold_time += mask\n        return threshold_time\n\n    def ax_update(self, ax):\n        ax.set_autoscale_on(False)  # Otherwise, infinite loop\n        # Get the number of points from the number of pixels in the window\n        self.width, self.height = \\\n            np.round(ax.patch.get_window_extent().size).astype(int)\n        # Get the range for the new area\n        vl = ax.viewLim\n        extent = vl.x0, vl.x1, vl.y0, vl.y1\n        # Update the image object with our new data and extent\n        im = ax.images[-1]\n        im.set_data(self.compute_image(*extent))\n        im.set_extent(extent)\n        ax.figure.canvas.draw_idle()\n\n\nmd = MandelbrotDisplay()\nZ = md.compute_image(-2., 0.5, -1.25, 1.25)\n\nfig1, (ax1, ax2) = plt.subplots(1, 2)\nax1.imshow(Z, origin='lower',\n           extent=(md.x.min(), md.x.max(), md.y.min(), md.y.max()))\nax2.imshow(Z, origin='lower',\n           extent=(md.x.min(), md.x.max(), md.y.min(), md.y.max()))\n\nrect = UpdatingRect(\n    [0, 0], 0, 0, facecolor='none', edgecolor='black', linewidth=1.0)\nrect.set_bounds(*ax2.viewLim.bounds)\nax1.add_patch(rect)\n\n# Connect for changing the view limits\nax2.callbacks.connect('xlim_changed', rect)\nax2.callbacks.connect('ylim_changed', rect)\n\nax2.callbacks.connect('xlim_changed', md.ax_update)\nax2.callbacks.connect('ylim_changed', md.ax_update)\nax2.set_title(\"Zoom here\")\n\nplt.show()"
      ]
    }
  ],
  "metadata": {
    "kernelspec": {
      "display_name": "Python 3",
      "language": "python",
      "name": "python3"
    },
    "language_info": {
      "codemirror_mode": {
        "name": "ipython",
        "version": 3
      },
      "file_extension": ".py",
      "mimetype": "text/x-python",
      "name": "python",
      "nbconvert_exporter": "python",
      "pygments_lexer": "ipython3",
      "version": "3.11.0"
    }
  },
  "nbformat": 4,
  "nbformat_minor": 0
}