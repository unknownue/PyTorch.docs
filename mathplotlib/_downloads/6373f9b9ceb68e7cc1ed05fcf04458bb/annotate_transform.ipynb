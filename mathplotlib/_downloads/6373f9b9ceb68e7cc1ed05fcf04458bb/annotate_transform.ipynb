{
  "cells": [
    {
      "cell_type": "markdown",
      "metadata": {},
      "source": [
        "\n# Annotate Transform\n\nThis example shows how to use different coordinate systems for annotations.\nFor a complete overview of the annotation capabilities, also see the\n`annotation tutorial<annotations>`.\n\n.. redirect-from:: /gallery/pyplots/annotate_transform\n"
      ]
    },
    {
      "cell_type": "code",
      "execution_count": null,
      "metadata": {
        "collapsed": false
      },
      "outputs": [],
      "source": [
        "import matplotlib.pyplot as plt\nimport numpy as np\n\nx = np.arange(0, 10, 0.005)\ny = np.exp(-x/2.) * np.sin(2*np.pi*x)\n\nfig, ax = plt.subplots()\nax.plot(x, y)\nax.set_xlim(0, 10)\nax.set_ylim(-1, 1)\n\nxdata, ydata = 5, 0\nxdisplay, ydisplay = ax.transData.transform((xdata, ydata))\n\nbbox = dict(boxstyle=\"round\", fc=\"0.8\")\narrowprops = dict(\n    arrowstyle=\"->\",\n    connectionstyle=\"angle,angleA=0,angleB=90,rad=10\")\n\noffset = 72\nax.annotate(\n    f'data = ({xdata:.1f}, {ydata:.1f})',\n    (xdata, ydata),\n    xytext=(-2*offset, offset), textcoords='offset points',\n    bbox=bbox, arrowprops=arrowprops)\nax.annotate(\n    f'display = ({xdisplay:.1f}, {ydisplay:.1f})',\n    xy=(xdisplay, ydisplay), xycoords='figure pixels',\n    xytext=(0.5*offset, -offset), textcoords='offset points',\n    bbox=bbox, arrowprops=arrowprops)\n\nplt.show()"
      ]
    },
    {
      "cell_type": "markdown",
      "metadata": {},
      "source": [
        ".. admonition:: References\n\n   The use of the following functions, methods, classes and modules is shown\n   in this example:\n\n   - `matplotlib.transforms.Transform.transform`\n   - `matplotlib.axes.Axes.annotate` / `matplotlib.pyplot.annotate`\n\n"
      ]
    }
  ],
  "metadata": {
    "kernelspec": {
      "display_name": "Python 3",
      "language": "python",
      "name": "python3"
    },
    "language_info": {
      "codemirror_mode": {
        "name": "ipython",
        "version": 3
      },
      "file_extension": ".py",
      "mimetype": "text/x-python",
      "name": "python",
      "nbconvert_exporter": "python",
      "pygments_lexer": "ipython3",
      "version": "3.11.0"
    }
  },
  "nbformat": 4,
  "nbformat_minor": 0
}