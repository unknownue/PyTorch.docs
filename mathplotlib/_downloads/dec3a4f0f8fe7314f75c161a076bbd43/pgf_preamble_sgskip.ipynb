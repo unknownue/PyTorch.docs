{
  "cells": [
    {
      "cell_type": "markdown",
      "metadata": {},
      "source": [
        "\n# PGF preamble\n"
      ]
    },
    {
      "cell_type": "code",
      "execution_count": null,
      "metadata": {
        "collapsed": false
      },
      "outputs": [],
      "source": [
        "import matplotlib as mpl\n\nmpl.use(\"pgf\")\nimport matplotlib.pyplot as plt\n\nplt.rcParams.update({\n    \"font.family\": \"serif\",  # use serif/main font for text elements\n    \"text.usetex\": True,     # use inline math for ticks\n    \"pgf.rcfonts\": False,    # don't setup fonts from rc parameters\n    \"pgf.preamble\": \"\\n\".join([\n         r\"\\usepackage{url}\",            # load additional packages\n         r\"\\usepackage{unicode-math}\",   # unicode math setup\n         r\"\\setmainfont{DejaVu Serif}\",  # serif font via preamble\n    ])\n})\n\nfig, ax = plt.subplots(figsize=(4.5, 2.5))\n\nax.plot(range(5))\n\nax.set_xlabel(\"unicode text: \u044f, \u03c8, \u20ac, \u00fc\")\nax.set_ylabel(r\"\\url{https://matplotlib.org}\")\nax.legend([\"unicode math: $\u03bb=\u2211_i^\u221e \u03bc_i^2$\"])\n\nfig.tight_layout(pad=.5)\n\nfig.savefig(\"pgf_preamble.pdf\")\nfig.savefig(\"pgf_preamble.png\")"
      ]
    }
  ],
  "metadata": {
    "kernelspec": {
      "display_name": "Python 3",
      "language": "python",
      "name": "python3"
    },
    "language_info": {
      "codemirror_mode": {
        "name": "ipython",
        "version": 3
      },
      "file_extension": ".py",
      "mimetype": "text/x-python",
      "name": "python",
      "nbconvert_exporter": "python",
      "pygments_lexer": "ipython3",
      "version": "3.11.0"
    }
  },
  "nbformat": 4,
  "nbformat_minor": 0
}