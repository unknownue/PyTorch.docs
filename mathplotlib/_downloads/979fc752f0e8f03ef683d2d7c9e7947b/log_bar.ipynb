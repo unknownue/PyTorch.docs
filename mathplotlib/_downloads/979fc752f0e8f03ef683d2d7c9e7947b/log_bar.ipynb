{
  "cells": [
    {
      "cell_type": "markdown",
      "metadata": {},
      "source": [
        "\n# Log Bar\n\nPlotting a bar chart with a logarithmic y-axis.\n"
      ]
    },
    {
      "cell_type": "code",
      "execution_count": null,
      "metadata": {
        "collapsed": false
      },
      "outputs": [],
      "source": [
        "import matplotlib.pyplot as plt\nimport numpy as np\n\ndata = ((3, 1000), (10, 3), (100, 30), (500, 800), (50, 1))\n\ndim = len(data[0])\nw = 0.75\ndimw = w / dim\n\nfig, ax = plt.subplots()\nx = np.arange(len(data))\nfor i in range(len(data[0])):\n    y = [d[i] for d in data]\n    b = ax.bar(x + i * dimw, y, dimw, bottom=0.001)\n\nax.set_xticks(x + dimw / 2, labels=map(str, x))\nax.set_yscale('log')\n\nax.set_xlabel('x')\nax.set_ylabel('y')\n\nplt.show()"
      ]
    }
  ],
  "metadata": {
    "kernelspec": {
      "display_name": "Python 3",
      "language": "python",
      "name": "python3"
    },
    "language_info": {
      "codemirror_mode": {
        "name": "ipython",
        "version": 3
      },
      "file_extension": ".py",
      "mimetype": "text/x-python",
      "name": "python",
      "nbconvert_exporter": "python",
      "pygments_lexer": "ipython3",
      "version": "3.11.0"
    }
  },
  "nbformat": 4,
  "nbformat_minor": 0
}