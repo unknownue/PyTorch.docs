{
  "cells": [
    {
      "cell_type": "markdown",
      "metadata": {},
      "source": [
        "\n# Scales\n\nIllustrate the scale transformations applied to axes, e.g. log, symlog, logit.\n\nThe last two examples are examples of using the ``'function'`` scale by\nsupplying forward and inverse functions for the scale transformation.\n"
      ]
    },
    {
      "cell_type": "code",
      "execution_count": null,
      "metadata": {
        "collapsed": false
      },
      "outputs": [],
      "source": [
        "import matplotlib.pyplot as plt\nimport numpy as np\n\nfrom matplotlib.ticker import FixedLocator, NullFormatter\n\n# Fixing random state for reproducibility\nnp.random.seed(19680801)\n\n# make up some data in the interval ]0, 1[\ny = np.random.normal(loc=0.5, scale=0.4, size=1000)\ny = y[(y > 0) & (y < 1)]\ny.sort()\nx = np.arange(len(y))\n\n# plot with various axes scales\nfig, axs = plt.subplots(3, 2, figsize=(6, 8), layout='constrained')\n\n# linear\nax = axs[0, 0]\nax.plot(x, y)\nax.set_yscale('linear')\nax.set_title('linear')\nax.grid(True)\n\n\n# log\nax = axs[0, 1]\nax.plot(x, y)\nax.set_yscale('log')\nax.set_title('log')\nax.grid(True)\n\n\n# symmetric log\nax = axs[1, 1]\nax.plot(x, y - y.mean())\nax.set_yscale('symlog', linthresh=0.02)\nax.set_title('symlog')\nax.grid(True)\n\n# logit\nax = axs[1, 0]\nax.plot(x, y)\nax.set_yscale('logit')\nax.set_title('logit')\nax.grid(True)\n\n\n# Function x**(1/2)\ndef forward(x):\n    return x**(1/2)\n\n\ndef inverse(x):\n    return x**2\n\n\nax = axs[2, 0]\nax.plot(x, y)\nax.set_yscale('function', functions=(forward, inverse))\nax.set_title('function: $x^{1/2}$')\nax.grid(True)\nax.yaxis.set_major_locator(FixedLocator(np.arange(0, 1, 0.2)**2))\nax.yaxis.set_major_locator(FixedLocator(np.arange(0, 1, 0.2)))\n\n\n# Function Mercator transform\ndef forward(a):\n    a = np.deg2rad(a)\n    return np.rad2deg(np.log(np.abs(np.tan(a) + 1.0 / np.cos(a))))\n\n\ndef inverse(a):\n    a = np.deg2rad(a)\n    return np.rad2deg(np.arctan(np.sinh(a)))\n\nax = axs[2, 1]\n\nt = np.arange(0, 170.0, 0.1)\ns = t / 2.\n\nax.plot(t, s, '-', lw=2)\n\nax.set_yscale('function', functions=(forward, inverse))\nax.set_title('function: Mercator')\nax.grid(True)\nax.set_xlim([0, 180])\nax.yaxis.set_minor_formatter(NullFormatter())\nax.yaxis.set_major_locator(FixedLocator(np.arange(0, 90, 10)))\n\nplt.show()"
      ]
    },
    {
      "cell_type": "markdown",
      "metadata": {},
      "source": [
        ".. admonition:: References\n\n   The use of the following functions, methods, classes and modules is shown\n   in this example:\n\n   - `matplotlib.axes.Axes.set_xscale`\n   - `matplotlib.axes.Axes.set_yscale`\n   - `matplotlib.axis.Axis.set_major_locator`\n   - `matplotlib.scale.LinearScale`\n   - `matplotlib.scale.LogScale`\n   - `matplotlib.scale.SymmetricalLogScale`\n   - `matplotlib.scale.LogitScale`\n   - `matplotlib.scale.FuncScale`\n\n"
      ]
    }
  ],
  "metadata": {
    "kernelspec": {
      "display_name": "Python 3",
      "language": "python",
      "name": "python3"
    },
    "language_info": {
      "codemirror_mode": {
        "name": "ipython",
        "version": 3
      },
      "file_extension": ".py",
      "mimetype": "text/x-python",
      "name": "python",
      "nbconvert_exporter": "python",
      "pygments_lexer": "ipython3",
      "version": "3.11.0"
    }
  },
  "nbformat": 4,
  "nbformat_minor": 0
}