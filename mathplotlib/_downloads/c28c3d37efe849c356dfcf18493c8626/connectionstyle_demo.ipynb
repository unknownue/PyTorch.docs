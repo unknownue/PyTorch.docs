{
  "cells": [
    {
      "cell_type": "markdown",
      "metadata": {},
      "source": [
        "\n# Connection styles for annotations\n\nWhen creating an annotation using `~.Axes.annotate`, the arrow shape can be\ncontrolled via the *connectionstyle* parameter of *arrowprops*. For further\ndetails see the description of `.FancyArrowPatch`.\n"
      ]
    },
    {
      "cell_type": "code",
      "execution_count": null,
      "metadata": {
        "collapsed": false
      },
      "outputs": [],
      "source": [
        "import matplotlib.pyplot as plt\n\n\ndef demo_con_style(ax, connectionstyle):\n    x1, y1 = 0.3, 0.2\n    x2, y2 = 0.8, 0.6\n\n    ax.plot([x1, x2], [y1, y2], \".\")\n    ax.annotate(\"\",\n                xy=(x1, y1), xycoords='data',\n                xytext=(x2, y2), textcoords='data',\n                arrowprops=dict(arrowstyle=\"->\", color=\"0.5\",\n                                shrinkA=5, shrinkB=5,\n                                patchA=None, patchB=None,\n                                connectionstyle=connectionstyle,\n                                ),\n                )\n\n    ax.text(.05, .95, connectionstyle.replace(\",\", \",\\n\"),\n            transform=ax.transAxes, ha=\"left\", va=\"top\")\n\n\nfig, axs = plt.subplots(3, 5, figsize=(7, 6.3), layout=\"constrained\")\ndemo_con_style(axs[0, 0], \"angle3,angleA=90,angleB=0\")\ndemo_con_style(axs[1, 0], \"angle3,angleA=0,angleB=90\")\ndemo_con_style(axs[0, 1], \"arc3,rad=0.\")\ndemo_con_style(axs[1, 1], \"arc3,rad=0.3\")\ndemo_con_style(axs[2, 1], \"arc3,rad=-0.3\")\ndemo_con_style(axs[0, 2], \"angle,angleA=-90,angleB=180,rad=0\")\ndemo_con_style(axs[1, 2], \"angle,angleA=-90,angleB=180,rad=5\")\ndemo_con_style(axs[2, 2], \"angle,angleA=-90,angleB=10,rad=5\")\ndemo_con_style(axs[0, 3], \"arc,angleA=-90,angleB=0,armA=30,armB=30,rad=0\")\ndemo_con_style(axs[1, 3], \"arc,angleA=-90,angleB=0,armA=30,armB=30,rad=5\")\ndemo_con_style(axs[2, 3], \"arc,angleA=-90,angleB=0,armA=0,armB=40,rad=0\")\ndemo_con_style(axs[0, 4], \"bar,fraction=0.3\")\ndemo_con_style(axs[1, 4], \"bar,fraction=-0.3\")\ndemo_con_style(axs[2, 4], \"bar,angle=180,fraction=-0.2\")\n\nfor ax in axs.flat:\n    ax.set(xlim=(0, 1), ylim=(0, 1.25), xticks=[], yticks=[], aspect=1.25)\nfig.get_layout_engine().set(wspace=0, hspace=0, w_pad=0, h_pad=0)\n\nplt.show()"
      ]
    },
    {
      "cell_type": "markdown",
      "metadata": {},
      "source": [
        ".. admonition:: References\n\n   The use of the following functions, methods, classes and modules is shown\n   in this example:\n\n   - `matplotlib.axes.Axes.annotate`\n   - `matplotlib.patches.FancyArrowPatch`\n\n"
      ]
    }
  ],
  "metadata": {
    "kernelspec": {
      "display_name": "Python 3",
      "language": "python",
      "name": "python3"
    },
    "language_info": {
      "codemirror_mode": {
        "name": "ipython",
        "version": 3
      },
      "file_extension": ".py",
      "mimetype": "text/x-python",
      "name": "python",
      "nbconvert_exporter": "python",
      "pygments_lexer": "ipython3",
      "version": "3.11.0"
    }
  },
  "nbformat": 4,
  "nbformat_minor": 0
}