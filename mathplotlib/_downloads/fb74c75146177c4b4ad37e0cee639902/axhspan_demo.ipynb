{
  "cells": [
    {
      "cell_type": "markdown",
      "metadata": {},
      "source": [
        "\n# axhspan Demo\n\nCreate lines or rectangles that span the axes in either the horizontal or\nvertical direction, and lines than span the axes with an arbitrary orientation.\n"
      ]
    },
    {
      "cell_type": "code",
      "execution_count": null,
      "metadata": {
        "collapsed": false
      },
      "outputs": [],
      "source": [
        "import matplotlib.pyplot as plt\nimport numpy as np\n\nt = np.arange(-1, 2, .01)\ns = np.sin(2 * np.pi * t)\n\nfig, ax = plt.subplots()\n\nax.plot(t, s)\n# Thick red horizontal line at y=0 that spans the xrange.\nax.axhline(linewidth=8, color='#d62728')\n# Horizontal line at y=1 that spans the xrange.\nax.axhline(y=1)\n# Vertical line at x=1 that spans the yrange.\nax.axvline(x=1)\n# Thick blue vertical line at x=0 that spans the upper quadrant of the yrange.\nax.axvline(x=0, ymin=0.75, linewidth=8, color='#1f77b4')\n# Default hline at y=.5 that spans the middle half of the axes.\nax.axhline(y=.5, xmin=0.25, xmax=0.75)\n# Infinite black line going through (0, 0) to (1, 1).\nax.axline((0, 0), (1, 1), color='k')\n# 50%-gray rectangle spanning the axes' width from y=0.25 to y=0.75.\nax.axhspan(0.25, 0.75, facecolor='0.5')\n# Green rectangle spanning the axes' height from x=1.25 to x=1.55.\nax.axvspan(1.25, 1.55, facecolor='#2ca02c')\n\nplt.show()"
      ]
    }
  ],
  "metadata": {
    "kernelspec": {
      "display_name": "Python 3",
      "language": "python",
      "name": "python3"
    },
    "language_info": {
      "codemirror_mode": {
        "name": "ipython",
        "version": 3
      },
      "file_extension": ".py",
      "mimetype": "text/x-python",
      "name": "python",
      "nbconvert_exporter": "python",
      "pygments_lexer": "ipython3",
      "version": "3.11.0"
    }
  },
  "nbformat": 4,
  "nbformat_minor": 0
}