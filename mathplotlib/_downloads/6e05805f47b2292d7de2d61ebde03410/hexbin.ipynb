{
  "cells": [
    {
      "cell_type": "markdown",
      "metadata": {},
      "source": [
        "\n# hexbin(x, y, C)\n\nSee `~matplotlib.axes.Axes.hexbin`.\n"
      ]
    },
    {
      "cell_type": "code",
      "execution_count": null,
      "metadata": {
        "collapsed": false
      },
      "outputs": [],
      "source": [
        "import matplotlib.pyplot as plt\nimport numpy as np\n\nplt.style.use('_mpl-gallery-nogrid')\n\n# make data: correlated + noise\nnp.random.seed(1)\nx = np.random.randn(5000)\ny = 1.2 * x + np.random.randn(5000) / 3\n\n# plot:\nfig, ax = plt.subplots()\n\nax.hexbin(x, y, gridsize=20)\n\nax.set(xlim=(-2, 2), ylim=(-3, 3))\n\nplt.show()"
      ]
    }
  ],
  "metadata": {
    "kernelspec": {
      "display_name": "Python 3",
      "language": "python",
      "name": "python3"
    },
    "language_info": {
      "codemirror_mode": {
        "name": "ipython",
        "version": 3
      },
      "file_extension": ".py",
      "mimetype": "text/x-python",
      "name": "python",
      "nbconvert_exporter": "python",
      "pygments_lexer": "ipython3",
      "version": "3.11.0"
    }
  },
  "nbformat": 4,
  "nbformat_minor": 0
}