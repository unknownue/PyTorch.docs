{
  "cells": [
    {
      "cell_type": "markdown",
      "metadata": {},
      "source": [
        "\n# Adding a colorbar to inset axes\n"
      ]
    },
    {
      "cell_type": "code",
      "execution_count": null,
      "metadata": {
        "collapsed": false
      },
      "outputs": [],
      "source": [
        "import matplotlib.pyplot as plt\n\nfrom matplotlib import cbook\nfrom mpl_toolkits.axes_grid1.inset_locator import inset_axes, zoomed_inset_axes\n\nfig, ax = plt.subplots(figsize=[5, 4])\nax.set(aspect=1, xlim=(-15, 15), ylim=(-20, 5))\n\nZ = cbook.get_sample_data(\"axes_grid/bivariate_normal.npy\")\nextent = (-3, 4, -4, 3)\n\naxins = zoomed_inset_axes(ax, zoom=2, loc='upper left')\naxins.set(xticks=[], yticks=[])\nim = axins.imshow(Z, extent=extent, origin=\"lower\")\n\n# colorbar\ncax = inset_axes(axins,\n                 width=\"5%\",  # width = 10% of parent_bbox width\n                 height=\"100%\",  # height : 50%\n                 loc='lower left',\n                 bbox_to_anchor=(1.05, 0., 1, 1),\n                 bbox_transform=axins.transAxes,\n                 borderpad=0,\n                 )\nfig.colorbar(im, cax=cax)\n\nplt.show()"
      ]
    }
  ],
  "metadata": {
    "kernelspec": {
      "display_name": "Python 3",
      "language": "python",
      "name": "python3"
    },
    "language_info": {
      "codemirror_mode": {
        "name": "ipython",
        "version": 3
      },
      "file_extension": ".py",
      "mimetype": "text/x-python",
      "name": "python",
      "nbconvert_exporter": "python",
      "pygments_lexer": "ipython3",
      "version": "3.11.0"
    }
  },
  "nbformat": 4,
  "nbformat_minor": 0
}