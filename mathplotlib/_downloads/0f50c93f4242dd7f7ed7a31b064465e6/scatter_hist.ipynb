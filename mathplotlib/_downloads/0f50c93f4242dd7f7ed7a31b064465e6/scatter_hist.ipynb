{
  "cells": [
    {
      "cell_type": "markdown",
      "metadata": {},
      "source": [
        "\n# Scatter plot with histograms\n\nShow the marginal distributions of a scatter plot as histograms at the sides of\nthe plot.\n\nFor a nice alignment of the main axes with the marginals, two options are shown\nbelow:\n\nWhile `.Axes.inset_axes` may be a bit more complex, it allows correct handling\nof main axes with a fixed aspect ratio.\n\nAn alternative method to produce a similar figure using the ``axes_grid1``\ntoolkit is shown in the :doc:`/gallery/axes_grid1/scatter_hist_locatable_axes`\nexample.  Finally, it is also possible to position all axes in absolute\ncoordinates using `.Figure.add_axes` (not shown here).\n\nLet us first define a function that takes x and y data as input, as well\nas three axes, the main axes for the scatter, and two marginal axes. It will\nthen create the scatter and histograms inside the provided axes.\n"
      ]
    },
    {
      "cell_type": "code",
      "execution_count": null,
      "metadata": {
        "collapsed": false
      },
      "outputs": [],
      "source": [
        "import matplotlib.pyplot as plt\nimport numpy as np\n\n# Fixing random state for reproducibility\nnp.random.seed(19680801)\n\n# some random data\nx = np.random.randn(1000)\ny = np.random.randn(1000)\n\n\ndef scatter_hist(x, y, ax, ax_histx, ax_histy):\n    # no labels\n    ax_histx.tick_params(axis=\"x\", labelbottom=False)\n    ax_histy.tick_params(axis=\"y\", labelleft=False)\n\n    # the scatter plot:\n    ax.scatter(x, y)\n\n    # now determine nice limits by hand:\n    binwidth = 0.25\n    xymax = max(np.max(np.abs(x)), np.max(np.abs(y)))\n    lim = (int(xymax/binwidth) + 1) * binwidth\n\n    bins = np.arange(-lim, lim + binwidth, binwidth)\n    ax_histx.hist(x, bins=bins)\n    ax_histy.hist(y, bins=bins, orientation='horizontal')"
      ]
    },
    {
      "cell_type": "markdown",
      "metadata": {},
      "source": [
        "## Defining the axes positions using a gridspec\n\nWe define a gridspec with unequal width- and height-ratios to achieve desired\nlayout.  Also see the `arranging_axes` tutorial.\n\n"
      ]
    },
    {
      "cell_type": "code",
      "execution_count": null,
      "metadata": {
        "collapsed": false
      },
      "outputs": [],
      "source": [
        "# Start with a square Figure.\nfig = plt.figure(figsize=(6, 6))\n# Add a gridspec with two rows and two columns and a ratio of 1 to 4 between\n# the size of the marginal axes and the main axes in both directions.\n# Also adjust the subplot parameters for a square plot.\ngs = fig.add_gridspec(2, 2,  width_ratios=(4, 1), height_ratios=(1, 4),\n                      left=0.1, right=0.9, bottom=0.1, top=0.9,\n                      wspace=0.05, hspace=0.05)\n# Create the Axes.\nax = fig.add_subplot(gs[1, 0])\nax_histx = fig.add_subplot(gs[0, 0], sharex=ax)\nax_histy = fig.add_subplot(gs[1, 1], sharey=ax)\n# Draw the scatter plot and marginals.\nscatter_hist(x, y, ax, ax_histx, ax_histy)"
      ]
    },
    {
      "cell_type": "markdown",
      "metadata": {},
      "source": [
        "## Defining the axes positions using inset_axes\n\n`~.Axes.inset_axes` can be used to position marginals *outside* the main\naxes.  The advantage of doing so is that the aspect ratio of the main axes\ncan be fixed, and the marginals will always be drawn relative to the position\nof the axes.\n\n"
      ]
    },
    {
      "cell_type": "code",
      "execution_count": null,
      "metadata": {
        "collapsed": false
      },
      "outputs": [],
      "source": [
        "# Create a Figure, which doesn't have to be square.\nfig = plt.figure(layout='constrained')\n# Create the main axes, leaving 25% of the figure space at the top and on the\n# right to position marginals.\nax = fig.add_gridspec(top=0.75, right=0.75).subplots()\n# The main axes' aspect can be fixed.\nax.set(aspect=1)\n# Create marginal axes, which have 25% of the size of the main axes.  Note that\n# the inset axes are positioned *outside* (on the right and the top) of the\n# main axes, by specifying axes coordinates greater than 1.  Axes coordinates\n# less than 0 would likewise specify positions on the left and the bottom of\n# the main axes.\nax_histx = ax.inset_axes([0, 1.05, 1, 0.25], sharex=ax)\nax_histy = ax.inset_axes([1.05, 0, 0.25, 1], sharey=ax)\n# Draw the scatter plot and marginals.\nscatter_hist(x, y, ax, ax_histx, ax_histy)\n\nplt.show()"
      ]
    },
    {
      "cell_type": "markdown",
      "metadata": {},
      "source": [
        ".. admonition:: References\n\n   The use of the following functions, methods, classes and modules is shown\n   in this example:\n\n   - `matplotlib.figure.Figure.add_subplot`\n   - `matplotlib.figure.Figure.add_gridspec`\n   - `matplotlib.axes.Axes.inset_axes`\n   - `matplotlib.axes.Axes.scatter`\n   - `matplotlib.axes.Axes.hist`\n\n"
      ]
    }
  ],
  "metadata": {
    "kernelspec": {
      "display_name": "Python 3",
      "language": "python",
      "name": "python3"
    },
    "language_info": {
      "codemirror_mode": {
        "name": "ipython",
        "version": 3
      },
      "file_extension": ".py",
      "mimetype": "text/x-python",
      "name": "python",
      "nbconvert_exporter": "python",
      "pygments_lexer": "ipython3",
      "version": "3.11.0"
    }
  },
  "nbformat": 4,
  "nbformat_minor": 0
}