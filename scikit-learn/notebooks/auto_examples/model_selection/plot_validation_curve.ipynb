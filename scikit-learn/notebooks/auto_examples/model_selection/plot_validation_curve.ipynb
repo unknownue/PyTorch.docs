{
  "cells": [
    {
      "cell_type": "markdown",
      "metadata": {},
      "source": [
        "\n# Plotting Validation Curves\n\nIn this plot you can see the training scores and validation scores of an SVM\nfor different values of the kernel parameter gamma. For very low values of\ngamma, you can see that both the training score and the validation score are\nlow. This is called underfitting. Medium values of gamma will result in high\nvalues for both scores, i.e. the classifier is performing fairly well. If gamma\nis too high, the classifier will overfit, which means that the training score\nis good but the validation score is poor.\n"
      ]
    },
    {
      "cell_type": "code",
      "execution_count": null,
      "metadata": {
        "collapsed": false
      },
      "outputs": [],
      "source": [
        "import matplotlib.pyplot as plt\nimport numpy as np\n\nfrom sklearn.datasets import load_digits\nfrom sklearn.model_selection import ValidationCurveDisplay\nfrom sklearn.svm import SVC\n\nX, y = load_digits(return_X_y=True)\nsubset_mask = np.isin(y, [1, 2])  # binary classification: 1 vs 2\nX, y = X[subset_mask], y[subset_mask]\n\ndisp = ValidationCurveDisplay.from_estimator(\n    SVC(),\n    X,\n    y,\n    param_name=\"gamma\",\n    param_range=np.logspace(-6, -1, 5),\n    score_type=\"both\",\n    n_jobs=2,\n    score_name=\"Accuracy\",\n)\ndisp.ax_.set_title(\"Validation Curve for SVM with an RBF kernel\")\ndisp.ax_.set_xlabel(r\"gamma (inverse radius of the RBF kernel)\")\ndisp.ax_.set_ylim(0.0, 1.1)\nplt.show()"
      ]
    }
  ],
  "metadata": {
    "kernelspec": {
      "display_name": "Python 3",
      "language": "python",
      "name": "python3"
    },
    "language_info": {
      "codemirror_mode": {
        "name": "ipython",
        "version": 3
      },
      "file_extension": ".py",
      "mimetype": "text/x-python",
      "name": "python",
      "nbconvert_exporter": "python",
      "pygments_lexer": "ipython3",
      "version": "3.11.0"
    }
  },
  "nbformat": 4,
  "nbformat_minor": 0
}