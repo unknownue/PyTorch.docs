{
  "cells": [
    {
      "cell_type": "markdown",
      "metadata": {},
      "source": [
        "\n# Pixel importances with a parallel forest of trees\n\nThis example shows the use of a forest of trees to evaluate the impurity\nbased importance of the pixels in an image classification task on the faces\ndataset. The hotter the pixel, the more important it is.\n\nThe code below also illustrates how the construction and the computation\nof the predictions can be parallelized within multiple jobs.\n"
      ]
    },
    {
      "cell_type": "markdown",
      "metadata": {},
      "source": [
        "## Loading the data and model fitting\nFirst, we load the olivetti faces dataset and limit the dataset to contain\nonly the first five classes. Then we train a random forest on the dataset\nand evaluate the impurity-based feature importance. One drawback of this\nmethod is that it cannot be evaluated on a separate test set. For this\nexample, we are interested in representing the information learned from\nthe full dataset. Also, we'll set the number of cores to use for the tasks.\n\n"
      ]
    },
    {
      "cell_type": "code",
      "execution_count": null,
      "metadata": {
        "collapsed": false
      },
      "outputs": [],
      "source": [
        "from sklearn.datasets import fetch_olivetti_faces"
      ]
    },
    {
      "cell_type": "markdown",
      "metadata": {},
      "source": [
        "We select the number of cores to use to perform parallel fitting of\nthe forest model. `-1` means use all available cores.\n\n"
      ]
    },
    {
      "cell_type": "code",
      "execution_count": null,
      "metadata": {
        "collapsed": false
      },
      "outputs": [],
      "source": [
        "n_jobs = -1"
      ]
    },
    {
      "cell_type": "markdown",
      "metadata": {},
      "source": [
        "Load the faces dataset\n\n"
      ]
    },
    {
      "cell_type": "code",
      "execution_count": null,
      "metadata": {
        "collapsed": false
      },
      "outputs": [],
      "source": [
        "data = fetch_olivetti_faces()\nX, y = data.data, data.target"
      ]
    },
    {
      "cell_type": "markdown",
      "metadata": {},
      "source": [
        "Limit the dataset to 5 classes.\n\n"
      ]
    },
    {
      "cell_type": "code",
      "execution_count": null,
      "metadata": {
        "collapsed": false
      },
      "outputs": [],
      "source": [
        "mask = y < 5\nX = X[mask]\ny = y[mask]"
      ]
    },
    {
      "cell_type": "markdown",
      "metadata": {},
      "source": [
        "A random forest classifier will be fitted to compute the feature importances.\n\n"
      ]
    },
    {
      "cell_type": "code",
      "execution_count": null,
      "metadata": {
        "collapsed": false
      },
      "outputs": [],
      "source": [
        "from sklearn.ensemble import RandomForestClassifier\n\nforest = RandomForestClassifier(n_estimators=750, n_jobs=n_jobs, random_state=42)\n\nforest.fit(X, y)"
      ]
    },
    {
      "cell_type": "markdown",
      "metadata": {},
      "source": [
        "## Feature importance based on mean decrease in impurity (MDI)\nFeature importances are provided by the fitted attribute\n`feature_importances_` and they are computed as the mean and standard\ndeviation of accumulation of the impurity decrease within each tree.\n\n<div class=\"alert alert-danger\"><h4>Warning</h4><p>Impurity-based feature importances can be misleading for **high\n    cardinality** features (many unique values). See\n    `permutation_importance` as an alternative.</p></div>\n\n"
      ]
    },
    {
      "cell_type": "code",
      "execution_count": null,
      "metadata": {
        "collapsed": false
      },
      "outputs": [],
      "source": [
        "import time\n\nimport matplotlib.pyplot as plt\n\nstart_time = time.time()\nimg_shape = data.images[0].shape\nimportances = forest.feature_importances_\nelapsed_time = time.time() - start_time\n\nprint(f\"Elapsed time to compute the importances: {elapsed_time:.3f} seconds\")\nimp_reshaped = importances.reshape(img_shape)\nplt.matshow(imp_reshaped, cmap=plt.cm.hot)\nplt.title(\"Pixel importances using impurity values\")\nplt.colorbar()\nplt.show()"
      ]
    },
    {
      "cell_type": "markdown",
      "metadata": {},
      "source": [
        "Can you still recognize a face?\n\n"
      ]
    },
    {
      "cell_type": "markdown",
      "metadata": {},
      "source": [
        "The limitations of MDI is not a problem for this dataset because:\n\n 1. All features are (ordered) numeric and will thus not suffer the\n    cardinality bias\n 2. We are only interested to represent knowledge of the forest acquired\n    on the training set.\n\nIf these two conditions are not met, it is recommended to instead use\nthe :func:`~sklearn.inspection.permutation_importance`.\n\n"
      ]
    }
  ],
  "metadata": {
    "kernelspec": {
      "display_name": "Python 3",
      "language": "python",
      "name": "python3"
    },
    "language_info": {
      "codemirror_mode": {
        "name": "ipython",
        "version": 3
      },
      "file_extension": ".py",
      "mimetype": "text/x-python",
      "name": "python",
      "nbconvert_exporter": "python",
      "pygments_lexer": "ipython3",
      "version": "3.11.0"
    }
  },
  "nbformat": 4,
  "nbformat_minor": 0
}